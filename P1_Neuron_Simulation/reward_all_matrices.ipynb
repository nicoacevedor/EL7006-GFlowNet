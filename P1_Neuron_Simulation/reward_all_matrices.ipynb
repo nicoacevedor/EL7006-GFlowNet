{
 "cells": [
  {
   "cell_type": "code",
   "execution_count": 1,
   "metadata": {},
   "outputs": [],
   "source": [
    "import matplotlib.pyplot as plt\n",
    "import numpy as np\n",
    "import plotly.graph_objects as go\n",
    "from plotly.subplots import make_subplots\n",
    "import torch\n",
    "import torch.nn as nn\n",
    "from torch.distributions.categorical import Categorical\n",
    "from tqdm.notebook import tqdm\n",
    "\n",
    "from src.binary_engine_legacy import GFlowBinaryEngine\n",
    "from src.functional import correlation_for_all_neurons, sigmoid\n",
    "from src.model import FlowModel\n",
    "from src.simulators import NetworkSystemSimulator\n",
    "from src.utils import plot_neural_activity\n",
    "from src.gflownet_functions import get_all_binary_matrices, get_parents_flow_binary"
   ]
  },
  {
   "cell_type": "code",
   "execution_count": 2,
   "metadata": {},
   "outputs": [],
   "source": [
    "F_sa = FlowModel(3, 512)\n",
    "F_sa.to(\"cuda\")\n",
    "F_sa.eval()\n",
    "simulator = NetworkSystemSimulator(device=\"cuda\")\n",
    "engine = GFlowBinaryEngine(F_sa, simulator, device=\"cuda\")"
   ]
  },
  {
   "cell_type": "code",
   "execution_count": 3,
   "metadata": {},
   "outputs": [
    {
     "name": "stdout",
     "output_type": "stream",
     "text": [
      "flow: 0.5148553848266602 -> parent = tensor([0., 0., 0., 0., 0., 0., 0., 0., 0.])\n",
      "flow: 1.02899968624115 -> parent = tensor([0., 0., 0., 0., 0., 0., 0., 1., 0.])\n",
      "flow: 0.521050214767456 -> parent = tensor([0., 0., 0., 0., 0., 0., 0., 0., 0.])\n",
      "flow: 0.9964465498924255 -> parent = tensor([0., 0., 1., 0., 0., 0., 0., 0., 0.])\n",
      "flow: 2.5179738998413086 -> parent = tensor([0., 0., 1., 0., 0., 0., 0., 1., 0.])\n",
      "flow: 0.5148553848266602 -> parent = tensor([0., 0., 0., 0., 0., 0., 0., 0., 0.])\n",
      "flow: 1.0045404434204102 -> parent = tensor([0., 0., 0., 0., 0., 0., 0., 1., 0.])\n",
      "flow: 0.5037842988967896 -> parent = tensor([0., 0., 0., 0., 0., 0., 0., 0., 0.])\n",
      "flow: 1.0424904823303223 -> parent = tensor([1., 0., 0., 0., 0., 0., 0., 0., 0.])\n",
      "flow: 2.5485525131225586 -> parent = tensor([1., 0., 0., 0., 0., 0., 0., 1., 0.])\n",
      "flow: 0.521050214767456 -> parent = tensor([0., 0., 0., 0., 0., 0., 0., 0., 0.])\n",
      "flow: 1.035344123840332 -> parent = tensor([0., 0., 1., 0., 0., 0., 0., 0., 0.])\n",
      "flow: 0.5037842988967896 -> parent = tensor([0., 0., 0., 0., 0., 0., 0., 0., 0.])\n",
      "flow: 0.9944974184036255 -> parent = tensor([1., 0., 0., 0., 0., 0., 0., 0., 0.])\n",
      "flow: 2.5409207344055176 -> parent = tensor([1., 0., 1., 0., 0., 0., 0., 0., 0.])\n"
     ]
    },
    {
     "data": {
      "text/plain": [
       "tensor(7.6074, device='cuda:0', grad_fn=<AddBackward0>)"
      ]
     },
     "execution_count": 3,
     "metadata": {},
     "output_type": "execute_result"
    }
   ],
   "source": [
    "get_parents_flow_binary(torch.tensor([1., 0, 1, 0, 0, 0, 0, 1, 0]), F_sa)"
   ]
  },
  {
   "cell_type": "code",
   "execution_count": 13,
   "metadata": {},
   "outputs": [
    {
     "data": {
      "application/vnd.jupyter.widget-view+json": {
       "model_id": "3a7314d2ea224a249cfa6f57fdd1b137",
       "version_major": 2,
       "version_minor": 0
      },
      "text/plain": [
       "  0%|          | 0/500 [00:00<?, ?it/s]"
      ]
     },
     "metadata": {},
     "output_type": "display_data"
    }
   ],
   "source": [
    "_, presampled_flows = get_all_binary_matrices(9, F_sa)\n",
    "freq_before = {i: 0 for i in range(512)}\n",
    "for _ in tqdm(range(500)):\n",
    "    matrix = engine(torch.zeros(3, 100, device=\"cuda\"), presampled_flows).detach().cpu().int().flatten().tolist()\n",
    "    binary = \"\".join([str(i) for i in matrix])\n",
    "    matrix_id = int(binary, 2)\n",
    "    freq_before[matrix_id] += 1"
   ]
  },
  {
   "cell_type": "code",
   "execution_count": 7,
   "metadata": {},
   "outputs": [
    {
     "data": {
      "application/vnd.plotly.v1+json": {
       "config": {
        "plotlyServerURL": "https://plot.ly"
       },
       "data": [
        {
         "type": "bar",
         "x": [
          0,
          1,
          2,
          3,
          4,
          5,
          6,
          7,
          8,
          9,
          10,
          11,
          12,
          13,
          14,
          15,
          16,
          17,
          18,
          19,
          20,
          21,
          22,
          23,
          24,
          25,
          26,
          27,
          28,
          29,
          30,
          31,
          32,
          33,
          34,
          35,
          36,
          37,
          38,
          39,
          40,
          41,
          42,
          43,
          44,
          45,
          46,
          47,
          48,
          49,
          50,
          51,
          52,
          53,
          54,
          55,
          56,
          57,
          58,
          59,
          60,
          61,
          62,
          63,
          64,
          65,
          66,
          67,
          68,
          69,
          70,
          71,
          72,
          73,
          74,
          75,
          76,
          77,
          78,
          79,
          80,
          81,
          82,
          83,
          84,
          85,
          86,
          87,
          88,
          89,
          90,
          91,
          92,
          93,
          94,
          95,
          96,
          97,
          98,
          99,
          100,
          101,
          102,
          103,
          104,
          105,
          106,
          107,
          108,
          109,
          110,
          111,
          112,
          113,
          114,
          115,
          116,
          117,
          118,
          119,
          120,
          121,
          122,
          123,
          124,
          125,
          126,
          127,
          128,
          129,
          130,
          131,
          132,
          133,
          134,
          135,
          136,
          137,
          138,
          139,
          140,
          141,
          142,
          143,
          144,
          145,
          146,
          147,
          148,
          149,
          150,
          151,
          152,
          153,
          154,
          155,
          156,
          157,
          158,
          159,
          160,
          161,
          162,
          163,
          164,
          165,
          166,
          167,
          168,
          169,
          170,
          171,
          172,
          173,
          174,
          175,
          176,
          177,
          178,
          179,
          180,
          181,
          182,
          183,
          184,
          185,
          186,
          187,
          188,
          189,
          190,
          191,
          192,
          193,
          194,
          195,
          196,
          197,
          198,
          199,
          200,
          201,
          202,
          203,
          204,
          205,
          206,
          207,
          208,
          209,
          210,
          211,
          212,
          213,
          214,
          215,
          216,
          217,
          218,
          219,
          220,
          221,
          222,
          223,
          224,
          225,
          226,
          227,
          228,
          229,
          230,
          231,
          232,
          233,
          234,
          235,
          236,
          237,
          238,
          239,
          240,
          241,
          242,
          243,
          244,
          245,
          246,
          247,
          248,
          249,
          250,
          251,
          252,
          253,
          254,
          255,
          256,
          257,
          258,
          259,
          260,
          261,
          262,
          263,
          264,
          265,
          266,
          267,
          268,
          269,
          270,
          271,
          272,
          273,
          274,
          275,
          276,
          277,
          278,
          279,
          280,
          281,
          282,
          283,
          284,
          285,
          286,
          287,
          288,
          289,
          290,
          291,
          292,
          293,
          294,
          295,
          296,
          297,
          298,
          299,
          300,
          301,
          302,
          303,
          304,
          305,
          306,
          307,
          308,
          309,
          310,
          311,
          312,
          313,
          314,
          315,
          316,
          317,
          318,
          319,
          320,
          321,
          322,
          323,
          324,
          325,
          326,
          327,
          328,
          329,
          330,
          331,
          332,
          333,
          334,
          335,
          336,
          337,
          338,
          339,
          340,
          341,
          342,
          343,
          344,
          345,
          346,
          347,
          348,
          349,
          350,
          351,
          352,
          353,
          354,
          355,
          356,
          357,
          358,
          359,
          360,
          361,
          362,
          363,
          364,
          365,
          366,
          367,
          368,
          369,
          370,
          371,
          372,
          373,
          374,
          375,
          376,
          377,
          378,
          379,
          380,
          381,
          382,
          383,
          384,
          385,
          386,
          387,
          388,
          389,
          390,
          391,
          392,
          393,
          394,
          395,
          396,
          397,
          398,
          399,
          400,
          401,
          402,
          403,
          404,
          405,
          406,
          407,
          408,
          409,
          410,
          411,
          412,
          413,
          414,
          415,
          416,
          417,
          418,
          419,
          420,
          421,
          422,
          423,
          424,
          425,
          426,
          427,
          428,
          429,
          430,
          431,
          432,
          433,
          434,
          435,
          436,
          437,
          438,
          439,
          440,
          441,
          442,
          443,
          444,
          445,
          446,
          447,
          448,
          449,
          450,
          451,
          452,
          453,
          454,
          455,
          456,
          457,
          458,
          459,
          460,
          461,
          462,
          463,
          464,
          465,
          466,
          467,
          468,
          469,
          470,
          471,
          472,
          473,
          474,
          475,
          476,
          477,
          478,
          479,
          480,
          481,
          482,
          483,
          484,
          485,
          486,
          487,
          488,
          489,
          490,
          491,
          492,
          493,
          494,
          495,
          496,
          497,
          498,
          499,
          500,
          501,
          502,
          503,
          504,
          505,
          506,
          507,
          508,
          509,
          510,
          511
         ],
         "y": [
          0,
          3,
          7,
          1,
          3,
          0,
          0,
          0,
          7,
          4,
          3,
          1,
          2,
          0,
          2,
          1,
          4,
          5,
          5,
          2,
          1,
          2,
          2,
          1,
          1,
          0,
          1,
          2,
          1,
          0,
          1,
          1,
          9,
          1,
          4,
          2,
          0,
          1,
          2,
          0,
          4,
          3,
          1,
          0,
          2,
          1,
          0,
          0,
          3,
          0,
          2,
          0,
          1,
          0,
          0,
          0,
          0,
          0,
          1,
          0,
          1,
          0,
          2,
          0,
          8,
          1,
          3,
          1,
          2,
          0,
          1,
          0,
          1,
          0,
          4,
          1,
          2,
          0,
          1,
          2,
          3,
          1,
          1,
          1,
          2,
          0,
          0,
          0,
          0,
          0,
          1,
          2,
          0,
          0,
          1,
          0,
          3,
          1,
          1,
          1,
          2,
          0,
          1,
          0,
          3,
          2,
          1,
          1,
          2,
          0,
          0,
          1,
          5,
          0,
          0,
          1,
          0,
          0,
          0,
          0,
          0,
          3,
          0,
          1,
          1,
          1,
          0,
          0,
          7,
          1,
          2,
          1,
          5,
          2,
          1,
          2,
          5,
          1,
          4,
          2,
          1,
          0,
          2,
          0,
          4,
          2,
          2,
          1,
          1,
          1,
          0,
          0,
          1,
          1,
          1,
          1,
          1,
          0,
          1,
          1,
          2,
          0,
          1,
          1,
          1,
          1,
          0,
          0,
          1,
          1,
          0,
          1,
          1,
          0,
          2,
          1,
          1,
          0,
          0,
          0,
          0,
          1,
          0,
          0,
          2,
          1,
          0,
          0,
          0,
          0,
          0,
          1,
          5,
          3,
          2,
          1,
          2,
          1,
          0,
          2,
          1,
          1,
          0,
          0,
          0,
          0,
          0,
          0,
          1,
          1,
          0,
          0,
          0,
          0,
          0,
          1,
          0,
          0,
          2,
          0,
          1,
          0,
          0,
          3,
          2,
          1,
          0,
          1,
          1,
          0,
          1,
          1,
          1,
          0,
          1,
          2,
          0,
          0,
          3,
          0,
          0,
          0,
          0,
          0,
          1,
          0,
          1,
          2,
          0,
          0,
          1,
          2,
          1,
          0,
          1,
          1,
          10,
          3,
          3,
          1,
          3,
          1,
          0,
          0,
          6,
          2,
          1,
          0,
          3,
          0,
          2,
          0,
          4,
          1,
          1,
          0,
          2,
          0,
          0,
          0,
          2,
          3,
          0,
          0,
          0,
          0,
          0,
          2,
          6,
          0,
          2,
          0,
          1,
          0,
          3,
          0,
          1,
          0,
          1,
          0,
          0,
          1,
          2,
          1,
          3,
          1,
          1,
          0,
          1,
          0,
          0,
          0,
          2,
          1,
          0,
          0,
          0,
          0,
          0,
          0,
          4,
          1,
          3,
          1,
          0,
          0,
          0,
          0,
          2,
          0,
          0,
          1,
          1,
          0,
          1,
          0,
          2,
          0,
          4,
          1,
          2,
          1,
          1,
          0,
          1,
          1,
          1,
          0,
          1,
          0,
          0,
          0,
          1,
          1,
          1,
          1,
          0,
          0,
          1,
          0,
          1,
          0,
          0,
          0,
          1,
          0,
          0,
          0,
          1,
          3,
          1,
          0,
          3,
          0,
          1,
          0,
          0,
          0,
          1,
          0,
          0,
          0,
          1,
          1,
          8,
          1,
          0,
          1,
          2,
          0,
          0,
          1,
          4,
          0,
          1,
          3,
          0,
          1,
          0,
          0,
          1,
          0,
          1,
          0,
          1,
          1,
          1,
          0,
          1,
          1,
          0,
          1,
          0,
          0,
          0,
          0,
          1,
          0,
          1,
          1,
          0,
          1,
          0,
          1,
          0,
          0,
          0,
          2,
          0,
          0,
          0,
          0,
          2,
          0,
          0,
          2,
          0,
          2,
          0,
          0,
          1,
          0,
          0,
          0,
          0,
          0,
          1,
          0,
          1,
          1,
          0,
          2,
          0,
          1,
          1,
          0,
          0,
          1,
          1,
          0,
          1,
          1,
          0,
          1,
          0,
          0,
          1,
          0,
          0,
          1,
          0,
          2,
          0,
          0,
          0,
          0,
          1,
          1,
          1,
          1,
          2,
          0,
          1,
          0,
          1,
          0,
          0,
          1,
          1,
          1,
          0,
          0,
          0,
          0,
          0,
          1,
          1,
          1,
          0,
          1,
          0,
          0,
          0,
          0,
          1,
          0,
          0,
          2,
          0,
          0,
          0,
          0
         ]
        }
       ],
       "layout": {
        "template": {
         "data": {
          "bar": [
           {
            "error_x": {
             "color": "#2a3f5f"
            },
            "error_y": {
             "color": "#2a3f5f"
            },
            "marker": {
             "line": {
              "color": "#E5ECF6",
              "width": 0.5
             },
             "pattern": {
              "fillmode": "overlay",
              "size": 10,
              "solidity": 0.2
             }
            },
            "type": "bar"
           }
          ],
          "barpolar": [
           {
            "marker": {
             "line": {
              "color": "#E5ECF6",
              "width": 0.5
             },
             "pattern": {
              "fillmode": "overlay",
              "size": 10,
              "solidity": 0.2
             }
            },
            "type": "barpolar"
           }
          ],
          "carpet": [
           {
            "aaxis": {
             "endlinecolor": "#2a3f5f",
             "gridcolor": "white",
             "linecolor": "white",
             "minorgridcolor": "white",
             "startlinecolor": "#2a3f5f"
            },
            "baxis": {
             "endlinecolor": "#2a3f5f",
             "gridcolor": "white",
             "linecolor": "white",
             "minorgridcolor": "white",
             "startlinecolor": "#2a3f5f"
            },
            "type": "carpet"
           }
          ],
          "choropleth": [
           {
            "colorbar": {
             "outlinewidth": 0,
             "ticks": ""
            },
            "type": "choropleth"
           }
          ],
          "contour": [
           {
            "colorbar": {
             "outlinewidth": 0,
             "ticks": ""
            },
            "colorscale": [
             [
              0,
              "#0d0887"
             ],
             [
              0.1111111111111111,
              "#46039f"
             ],
             [
              0.2222222222222222,
              "#7201a8"
             ],
             [
              0.3333333333333333,
              "#9c179e"
             ],
             [
              0.4444444444444444,
              "#bd3786"
             ],
             [
              0.5555555555555556,
              "#d8576b"
             ],
             [
              0.6666666666666666,
              "#ed7953"
             ],
             [
              0.7777777777777778,
              "#fb9f3a"
             ],
             [
              0.8888888888888888,
              "#fdca26"
             ],
             [
              1,
              "#f0f921"
             ]
            ],
            "type": "contour"
           }
          ],
          "contourcarpet": [
           {
            "colorbar": {
             "outlinewidth": 0,
             "ticks": ""
            },
            "type": "contourcarpet"
           }
          ],
          "heatmap": [
           {
            "colorbar": {
             "outlinewidth": 0,
             "ticks": ""
            },
            "colorscale": [
             [
              0,
              "#0d0887"
             ],
             [
              0.1111111111111111,
              "#46039f"
             ],
             [
              0.2222222222222222,
              "#7201a8"
             ],
             [
              0.3333333333333333,
              "#9c179e"
             ],
             [
              0.4444444444444444,
              "#bd3786"
             ],
             [
              0.5555555555555556,
              "#d8576b"
             ],
             [
              0.6666666666666666,
              "#ed7953"
             ],
             [
              0.7777777777777778,
              "#fb9f3a"
             ],
             [
              0.8888888888888888,
              "#fdca26"
             ],
             [
              1,
              "#f0f921"
             ]
            ],
            "type": "heatmap"
           }
          ],
          "heatmapgl": [
           {
            "colorbar": {
             "outlinewidth": 0,
             "ticks": ""
            },
            "colorscale": [
             [
              0,
              "#0d0887"
             ],
             [
              0.1111111111111111,
              "#46039f"
             ],
             [
              0.2222222222222222,
              "#7201a8"
             ],
             [
              0.3333333333333333,
              "#9c179e"
             ],
             [
              0.4444444444444444,
              "#bd3786"
             ],
             [
              0.5555555555555556,
              "#d8576b"
             ],
             [
              0.6666666666666666,
              "#ed7953"
             ],
             [
              0.7777777777777778,
              "#fb9f3a"
             ],
             [
              0.8888888888888888,
              "#fdca26"
             ],
             [
              1,
              "#f0f921"
             ]
            ],
            "type": "heatmapgl"
           }
          ],
          "histogram": [
           {
            "marker": {
             "pattern": {
              "fillmode": "overlay",
              "size": 10,
              "solidity": 0.2
             }
            },
            "type": "histogram"
           }
          ],
          "histogram2d": [
           {
            "colorbar": {
             "outlinewidth": 0,
             "ticks": ""
            },
            "colorscale": [
             [
              0,
              "#0d0887"
             ],
             [
              0.1111111111111111,
              "#46039f"
             ],
             [
              0.2222222222222222,
              "#7201a8"
             ],
             [
              0.3333333333333333,
              "#9c179e"
             ],
             [
              0.4444444444444444,
              "#bd3786"
             ],
             [
              0.5555555555555556,
              "#d8576b"
             ],
             [
              0.6666666666666666,
              "#ed7953"
             ],
             [
              0.7777777777777778,
              "#fb9f3a"
             ],
             [
              0.8888888888888888,
              "#fdca26"
             ],
             [
              1,
              "#f0f921"
             ]
            ],
            "type": "histogram2d"
           }
          ],
          "histogram2dcontour": [
           {
            "colorbar": {
             "outlinewidth": 0,
             "ticks": ""
            },
            "colorscale": [
             [
              0,
              "#0d0887"
             ],
             [
              0.1111111111111111,
              "#46039f"
             ],
             [
              0.2222222222222222,
              "#7201a8"
             ],
             [
              0.3333333333333333,
              "#9c179e"
             ],
             [
              0.4444444444444444,
              "#bd3786"
             ],
             [
              0.5555555555555556,
              "#d8576b"
             ],
             [
              0.6666666666666666,
              "#ed7953"
             ],
             [
              0.7777777777777778,
              "#fb9f3a"
             ],
             [
              0.8888888888888888,
              "#fdca26"
             ],
             [
              1,
              "#f0f921"
             ]
            ],
            "type": "histogram2dcontour"
           }
          ],
          "mesh3d": [
           {
            "colorbar": {
             "outlinewidth": 0,
             "ticks": ""
            },
            "type": "mesh3d"
           }
          ],
          "parcoords": [
           {
            "line": {
             "colorbar": {
              "outlinewidth": 0,
              "ticks": ""
             }
            },
            "type": "parcoords"
           }
          ],
          "pie": [
           {
            "automargin": true,
            "type": "pie"
           }
          ],
          "scatter": [
           {
            "fillpattern": {
             "fillmode": "overlay",
             "size": 10,
             "solidity": 0.2
            },
            "type": "scatter"
           }
          ],
          "scatter3d": [
           {
            "line": {
             "colorbar": {
              "outlinewidth": 0,
              "ticks": ""
             }
            },
            "marker": {
             "colorbar": {
              "outlinewidth": 0,
              "ticks": ""
             }
            },
            "type": "scatter3d"
           }
          ],
          "scattercarpet": [
           {
            "marker": {
             "colorbar": {
              "outlinewidth": 0,
              "ticks": ""
             }
            },
            "type": "scattercarpet"
           }
          ],
          "scattergeo": [
           {
            "marker": {
             "colorbar": {
              "outlinewidth": 0,
              "ticks": ""
             }
            },
            "type": "scattergeo"
           }
          ],
          "scattergl": [
           {
            "marker": {
             "colorbar": {
              "outlinewidth": 0,
              "ticks": ""
             }
            },
            "type": "scattergl"
           }
          ],
          "scattermapbox": [
           {
            "marker": {
             "colorbar": {
              "outlinewidth": 0,
              "ticks": ""
             }
            },
            "type": "scattermapbox"
           }
          ],
          "scatterpolar": [
           {
            "marker": {
             "colorbar": {
              "outlinewidth": 0,
              "ticks": ""
             }
            },
            "type": "scatterpolar"
           }
          ],
          "scatterpolargl": [
           {
            "marker": {
             "colorbar": {
              "outlinewidth": 0,
              "ticks": ""
             }
            },
            "type": "scatterpolargl"
           }
          ],
          "scatterternary": [
           {
            "marker": {
             "colorbar": {
              "outlinewidth": 0,
              "ticks": ""
             }
            },
            "type": "scatterternary"
           }
          ],
          "surface": [
           {
            "colorbar": {
             "outlinewidth": 0,
             "ticks": ""
            },
            "colorscale": [
             [
              0,
              "#0d0887"
             ],
             [
              0.1111111111111111,
              "#46039f"
             ],
             [
              0.2222222222222222,
              "#7201a8"
             ],
             [
              0.3333333333333333,
              "#9c179e"
             ],
             [
              0.4444444444444444,
              "#bd3786"
             ],
             [
              0.5555555555555556,
              "#d8576b"
             ],
             [
              0.6666666666666666,
              "#ed7953"
             ],
             [
              0.7777777777777778,
              "#fb9f3a"
             ],
             [
              0.8888888888888888,
              "#fdca26"
             ],
             [
              1,
              "#f0f921"
             ]
            ],
            "type": "surface"
           }
          ],
          "table": [
           {
            "cells": {
             "fill": {
              "color": "#EBF0F8"
             },
             "line": {
              "color": "white"
             }
            },
            "header": {
             "fill": {
              "color": "#C8D4E3"
             },
             "line": {
              "color": "white"
             }
            },
            "type": "table"
           }
          ]
         },
         "layout": {
          "annotationdefaults": {
           "arrowcolor": "#2a3f5f",
           "arrowhead": 0,
           "arrowwidth": 1
          },
          "autotypenumbers": "strict",
          "coloraxis": {
           "colorbar": {
            "outlinewidth": 0,
            "ticks": ""
           }
          },
          "colorscale": {
           "diverging": [
            [
             0,
             "#8e0152"
            ],
            [
             0.1,
             "#c51b7d"
            ],
            [
             0.2,
             "#de77ae"
            ],
            [
             0.3,
             "#f1b6da"
            ],
            [
             0.4,
             "#fde0ef"
            ],
            [
             0.5,
             "#f7f7f7"
            ],
            [
             0.6,
             "#e6f5d0"
            ],
            [
             0.7,
             "#b8e186"
            ],
            [
             0.8,
             "#7fbc41"
            ],
            [
             0.9,
             "#4d9221"
            ],
            [
             1,
             "#276419"
            ]
           ],
           "sequential": [
            [
             0,
             "#0d0887"
            ],
            [
             0.1111111111111111,
             "#46039f"
            ],
            [
             0.2222222222222222,
             "#7201a8"
            ],
            [
             0.3333333333333333,
             "#9c179e"
            ],
            [
             0.4444444444444444,
             "#bd3786"
            ],
            [
             0.5555555555555556,
             "#d8576b"
            ],
            [
             0.6666666666666666,
             "#ed7953"
            ],
            [
             0.7777777777777778,
             "#fb9f3a"
            ],
            [
             0.8888888888888888,
             "#fdca26"
            ],
            [
             1,
             "#f0f921"
            ]
           ],
           "sequentialminus": [
            [
             0,
             "#0d0887"
            ],
            [
             0.1111111111111111,
             "#46039f"
            ],
            [
             0.2222222222222222,
             "#7201a8"
            ],
            [
             0.3333333333333333,
             "#9c179e"
            ],
            [
             0.4444444444444444,
             "#bd3786"
            ],
            [
             0.5555555555555556,
             "#d8576b"
            ],
            [
             0.6666666666666666,
             "#ed7953"
            ],
            [
             0.7777777777777778,
             "#fb9f3a"
            ],
            [
             0.8888888888888888,
             "#fdca26"
            ],
            [
             1,
             "#f0f921"
            ]
           ]
          },
          "colorway": [
           "#636efa",
           "#EF553B",
           "#00cc96",
           "#ab63fa",
           "#FFA15A",
           "#19d3f3",
           "#FF6692",
           "#B6E880",
           "#FF97FF",
           "#FECB52"
          ],
          "font": {
           "color": "#2a3f5f"
          },
          "geo": {
           "bgcolor": "white",
           "lakecolor": "white",
           "landcolor": "#E5ECF6",
           "showlakes": true,
           "showland": true,
           "subunitcolor": "white"
          },
          "hoverlabel": {
           "align": "left"
          },
          "hovermode": "closest",
          "mapbox": {
           "style": "light"
          },
          "paper_bgcolor": "white",
          "plot_bgcolor": "#E5ECF6",
          "polar": {
           "angularaxis": {
            "gridcolor": "white",
            "linecolor": "white",
            "ticks": ""
           },
           "bgcolor": "#E5ECF6",
           "radialaxis": {
            "gridcolor": "white",
            "linecolor": "white",
            "ticks": ""
           }
          },
          "scene": {
           "xaxis": {
            "backgroundcolor": "#E5ECF6",
            "gridcolor": "white",
            "gridwidth": 2,
            "linecolor": "white",
            "showbackground": true,
            "ticks": "",
            "zerolinecolor": "white"
           },
           "yaxis": {
            "backgroundcolor": "#E5ECF6",
            "gridcolor": "white",
            "gridwidth": 2,
            "linecolor": "white",
            "showbackground": true,
            "ticks": "",
            "zerolinecolor": "white"
           },
           "zaxis": {
            "backgroundcolor": "#E5ECF6",
            "gridcolor": "white",
            "gridwidth": 2,
            "linecolor": "white",
            "showbackground": true,
            "ticks": "",
            "zerolinecolor": "white"
           }
          },
          "shapedefaults": {
           "line": {
            "color": "#2a3f5f"
           }
          },
          "ternary": {
           "aaxis": {
            "gridcolor": "white",
            "linecolor": "white",
            "ticks": ""
           },
           "baxis": {
            "gridcolor": "white",
            "linecolor": "white",
            "ticks": ""
           },
           "bgcolor": "#E5ECF6",
           "caxis": {
            "gridcolor": "white",
            "linecolor": "white",
            "ticks": ""
           }
          },
          "title": {
           "x": 0.05
          },
          "xaxis": {
           "automargin": true,
           "gridcolor": "white",
           "linecolor": "white",
           "ticks": "",
           "title": {
            "standoff": 15
           },
           "zerolinecolor": "white",
           "zerolinewidth": 2
          },
          "yaxis": {
           "automargin": true,
           "gridcolor": "white",
           "linecolor": "white",
           "ticks": "",
           "title": {
            "standoff": 15
           },
           "zerolinecolor": "white",
           "zerolinewidth": 2
          }
         }
        },
        "title": {
         "text": "Frecuencia de muestreo de cada matriz (500 muestras) ANTES de entrenar"
        },
        "xaxis": {
         "title": {
          "text": "ID Matriz"
         }
        },
        "yaxis": {
         "title": {
          "text": "Frecuencia"
         }
        }
       }
      }
     },
     "metadata": {},
     "output_type": "display_data"
    }
   ],
   "source": [
    "fig = go.Figure()\n",
    "fig.add_trace(go.Bar(x=list(range(512)), y=list(freq_before.values())))\n",
    "fig.update_layout(\n",
    "    title=\"Frecuencia de muestreo de cada matriz (500 muestras) ANTES de entrenar\",\n",
    "    xaxis_title=\"ID Matriz\",\n",
    "    yaxis_title=\"Frecuencia\",\n",
    ")\n",
    "fig.show()"
   ]
  },
  {
   "cell_type": "code",
   "execution_count": 2,
   "metadata": {},
   "outputs": [],
   "source": [
    "F_sa = FlowModel(3, 512)\n",
    "F_sa.to(\"cuda\")\n",
    "F_sa.eval()\n",
    "F_sa.load_state_dict(torch.load(\"training/binary/5epoch_no_diag_3x3_more_force/model.pt\", weights_only=True))\n",
    "simulator = NetworkSystemSimulator(device=\"cuda\")\n",
    "engine = GFlowBinaryEngine(F_sa, simulator, device=\"cuda\")"
   ]
  },
  {
   "cell_type": "code",
   "execution_count": 3,
   "metadata": {},
   "outputs": [
    {
     "data": {
      "application/vnd.jupyter.widget-view+json": {
       "model_id": "c6f53f4f05cd4ec784a7c471a8d616e3",
       "version_major": 2,
       "version_minor": 0
      },
      "text/plain": [
       "  0%|          | 0/500 [00:00<?, ?it/s]"
      ]
     },
     "metadata": {},
     "output_type": "display_data"
    }
   ],
   "source": [
    "_, presampled_flows = get_all_binary_matrices(9, F_sa)\n",
    "freq_after = {i: 0 for i in range(512)}\n",
    "for _ in tqdm(range(500)):\n",
    "    matrix = engine(torch.zeros(3, 100, device=\"cuda\"), presampled_flows).detach().cpu().int().flatten().tolist()\n",
    "    binary = \"\".join([str(i) for i in matrix])\n",
    "    matrix_id = int(binary, 2)\n",
    "    freq_after[matrix_id] += 1"
   ]
  },
  {
   "cell_type": "code",
   "execution_count": 7,
   "metadata": {},
   "outputs": [
    {
     "data": {
      "application/vnd.plotly.v1+json": {
       "config": {
        "plotlyServerURL": "https://plot.ly"
       },
       "data": [
        {
         "type": "bar",
         "x": [
          0,
          1,
          2,
          3,
          4,
          5,
          6,
          7,
          8,
          9,
          10,
          11,
          12,
          13,
          14,
          15,
          16,
          17,
          18,
          19,
          20,
          21,
          22,
          23,
          24,
          25,
          26,
          27,
          28,
          29,
          30,
          31,
          32,
          33,
          34,
          35,
          36,
          37,
          38,
          39,
          40,
          41,
          42,
          43,
          44,
          45,
          46,
          47,
          48,
          49,
          50,
          51,
          52,
          53,
          54,
          55,
          56,
          57,
          58,
          59,
          60,
          61,
          62,
          63,
          64,
          65,
          66,
          67,
          68,
          69,
          70,
          71,
          72,
          73,
          74,
          75,
          76,
          77,
          78,
          79,
          80,
          81,
          82,
          83,
          84,
          85,
          86,
          87,
          88,
          89,
          90,
          91,
          92,
          93,
          94,
          95,
          96,
          97,
          98,
          99,
          100,
          101,
          102,
          103,
          104,
          105,
          106,
          107,
          108,
          109,
          110,
          111,
          112,
          113,
          114,
          115,
          116,
          117,
          118,
          119,
          120,
          121,
          122,
          123,
          124,
          125,
          126,
          127,
          128,
          129,
          130,
          131,
          132,
          133,
          134,
          135,
          136,
          137,
          138,
          139,
          140,
          141,
          142,
          143,
          144,
          145,
          146,
          147,
          148,
          149,
          150,
          151,
          152,
          153,
          154,
          155,
          156,
          157,
          158,
          159,
          160,
          161,
          162,
          163,
          164,
          165,
          166,
          167,
          168,
          169,
          170,
          171,
          172,
          173,
          174,
          175,
          176,
          177,
          178,
          179,
          180,
          181,
          182,
          183,
          184,
          185,
          186,
          187,
          188,
          189,
          190,
          191,
          192,
          193,
          194,
          195,
          196,
          197,
          198,
          199,
          200,
          201,
          202,
          203,
          204,
          205,
          206,
          207,
          208,
          209,
          210,
          211,
          212,
          213,
          214,
          215,
          216,
          217,
          218,
          219,
          220,
          221,
          222,
          223,
          224,
          225,
          226,
          227,
          228,
          229,
          230,
          231,
          232,
          233,
          234,
          235,
          236,
          237,
          238,
          239,
          240,
          241,
          242,
          243,
          244,
          245,
          246,
          247,
          248,
          249,
          250,
          251,
          252,
          253,
          254,
          255,
          256,
          257,
          258,
          259,
          260,
          261,
          262,
          263,
          264,
          265,
          266,
          267,
          268,
          269,
          270,
          271,
          272,
          273,
          274,
          275,
          276,
          277,
          278,
          279,
          280,
          281,
          282,
          283,
          284,
          285,
          286,
          287,
          288,
          289,
          290,
          291,
          292,
          293,
          294,
          295,
          296,
          297,
          298,
          299,
          300,
          301,
          302,
          303,
          304,
          305,
          306,
          307,
          308,
          309,
          310,
          311,
          312,
          313,
          314,
          315,
          316,
          317,
          318,
          319,
          320,
          321,
          322,
          323,
          324,
          325,
          326,
          327,
          328,
          329,
          330,
          331,
          332,
          333,
          334,
          335,
          336,
          337,
          338,
          339,
          340,
          341,
          342,
          343,
          344,
          345,
          346,
          347,
          348,
          349,
          350,
          351,
          352,
          353,
          354,
          355,
          356,
          357,
          358,
          359,
          360,
          361,
          362,
          363,
          364,
          365,
          366,
          367,
          368,
          369,
          370,
          371,
          372,
          373,
          374,
          375,
          376,
          377,
          378,
          379,
          380,
          381,
          382,
          383,
          384,
          385,
          386,
          387,
          388,
          389,
          390,
          391,
          392,
          393,
          394,
          395,
          396,
          397,
          398,
          399,
          400,
          401,
          402,
          403,
          404,
          405,
          406,
          407,
          408,
          409,
          410,
          411,
          412,
          413,
          414,
          415,
          416,
          417,
          418,
          419,
          420,
          421,
          422,
          423,
          424,
          425,
          426,
          427,
          428,
          429,
          430,
          431,
          432,
          433,
          434,
          435,
          436,
          437,
          438,
          439,
          440,
          441,
          442,
          443,
          444,
          445,
          446,
          447,
          448,
          449,
          450,
          451,
          452,
          453,
          454,
          455,
          456,
          457,
          458,
          459,
          460,
          461,
          462,
          463,
          464,
          465,
          466,
          467,
          468,
          469,
          470,
          471,
          472,
          473,
          474,
          475,
          476,
          477,
          478,
          479,
          480,
          481,
          482,
          483,
          484,
          485,
          486,
          487,
          488,
          489,
          490,
          491,
          492,
          493,
          494,
          495,
          496,
          497,
          498,
          499,
          500,
          501,
          502,
          503,
          504,
          505,
          506,
          507,
          508,
          509,
          510,
          511
         ],
         "y": [
          0,
          4,
          9,
          4,
          1,
          3,
          6,
          2,
          4,
          6,
          3,
          1,
          3,
          1,
          0,
          1,
          6,
          7,
          2,
          0,
          2,
          4,
          1,
          0,
          3,
          1,
          0,
          0,
          1,
          1,
          1,
          0,
          2,
          1,
          1,
          3,
          3,
          0,
          0,
          1,
          5,
          0,
          1,
          0,
          4,
          0,
          1,
          2,
          4,
          2,
          1,
          0,
          4,
          0,
          0,
          2,
          1,
          0,
          1,
          0,
          1,
          0,
          1,
          1,
          4,
          4,
          5,
          1,
          0,
          3,
          1,
          0,
          3,
          2,
          0,
          0,
          1,
          3,
          1,
          3,
          6,
          0,
          2,
          0,
          2,
          0,
          1,
          0,
          2,
          0,
          1,
          0,
          2,
          0,
          0,
          0,
          2,
          2,
          4,
          0,
          3,
          0,
          1,
          1,
          2,
          0,
          1,
          0,
          1,
          1,
          0,
          0,
          1,
          1,
          4,
          0,
          2,
          1,
          1,
          1,
          2,
          0,
          0,
          0,
          2,
          1,
          0,
          0,
          6,
          3,
          2,
          4,
          2,
          2,
          1,
          1,
          4,
          1,
          3,
          1,
          0,
          1,
          1,
          4,
          1,
          2,
          1,
          0,
          0,
          0,
          2,
          0,
          0,
          1,
          1,
          0,
          3,
          0,
          4,
          0,
          2,
          1,
          2,
          1,
          1,
          0,
          1,
          1,
          1,
          2,
          1,
          0,
          0,
          0,
          0,
          1,
          0,
          2,
          2,
          3,
          0,
          1,
          0,
          0,
          0,
          1,
          1,
          0,
          0,
          1,
          1,
          1,
          3,
          1,
          3,
          0,
          1,
          1,
          0,
          1,
          0,
          0,
          0,
          2,
          2,
          1,
          0,
          0,
          3,
          0,
          1,
          0,
          1,
          1,
          0,
          1,
          0,
          1,
          0,
          0,
          0,
          0,
          2,
          0,
          0,
          1,
          2,
          0,
          0,
          0,
          1,
          0,
          0,
          0,
          0,
          0,
          0,
          1,
          0,
          1,
          0,
          0,
          0,
          0,
          1,
          1,
          0,
          0,
          1,
          0,
          0,
          0,
          0,
          1,
          1,
          0,
          9,
          1,
          2,
          0,
          4,
          1,
          0,
          0,
          3,
          1,
          3,
          2,
          2,
          2,
          1,
          0,
          2,
          1,
          2,
          0,
          2,
          1,
          0,
          0,
          2,
          0,
          1,
          0,
          2,
          1,
          1,
          1,
          2,
          0,
          1,
          1,
          3,
          0,
          3,
          0,
          1,
          1,
          0,
          0,
          0,
          1,
          0,
          2,
          3,
          2,
          0,
          2,
          1,
          0,
          2,
          0,
          1,
          0,
          0,
          2,
          0,
          0,
          0,
          3,
          1,
          0,
          3,
          1,
          1,
          0,
          2,
          1,
          1,
          0,
          0,
          1,
          2,
          1,
          0,
          0,
          4,
          1,
          1,
          0,
          2,
          1,
          2,
          1,
          0,
          0,
          1,
          0,
          1,
          0,
          0,
          0,
          1,
          0,
          1,
          2,
          0,
          0,
          0,
          0,
          1,
          0,
          0,
          0,
          0,
          0,
          0,
          1,
          3,
          0,
          0,
          0,
          0,
          0,
          0,
          1,
          1,
          1,
          0,
          1,
          0,
          0,
          0,
          1,
          5,
          1,
          1,
          2,
          1,
          1,
          1,
          1,
          1,
          1,
          1,
          0,
          3,
          0,
          0,
          0,
          1,
          0,
          0,
          0,
          0,
          1,
          1,
          0,
          2,
          1,
          0,
          0,
          0,
          1,
          1,
          1,
          3,
          1,
          3,
          1,
          0,
          1,
          1,
          0,
          0,
          0,
          0,
          0,
          1,
          0,
          2,
          0,
          1,
          1,
          0,
          0,
          0,
          1,
          0,
          0,
          0,
          1,
          0,
          0,
          0,
          0,
          0,
          0,
          0,
          1,
          0,
          0,
          1,
          0,
          0,
          2,
          0,
          0,
          0,
          0,
          0,
          0,
          1,
          0,
          0,
          1,
          0,
          0,
          0,
          1,
          1,
          0,
          0,
          0,
          0,
          0,
          1,
          1,
          0,
          0,
          1,
          0,
          1,
          0,
          0,
          0,
          3,
          0,
          0,
          0,
          0,
          0,
          0,
          0,
          0,
          1,
          0,
          0,
          0,
          1,
          0,
          0,
          0,
          0,
          1,
          0,
          1,
          0,
          0,
          2,
          0,
          0
         ]
        }
       ],
       "layout": {
        "template": {
         "data": {
          "bar": [
           {
            "error_x": {
             "color": "#2a3f5f"
            },
            "error_y": {
             "color": "#2a3f5f"
            },
            "marker": {
             "line": {
              "color": "#E5ECF6",
              "width": 0.5
             },
             "pattern": {
              "fillmode": "overlay",
              "size": 10,
              "solidity": 0.2
             }
            },
            "type": "bar"
           }
          ],
          "barpolar": [
           {
            "marker": {
             "line": {
              "color": "#E5ECF6",
              "width": 0.5
             },
             "pattern": {
              "fillmode": "overlay",
              "size": 10,
              "solidity": 0.2
             }
            },
            "type": "barpolar"
           }
          ],
          "carpet": [
           {
            "aaxis": {
             "endlinecolor": "#2a3f5f",
             "gridcolor": "white",
             "linecolor": "white",
             "minorgridcolor": "white",
             "startlinecolor": "#2a3f5f"
            },
            "baxis": {
             "endlinecolor": "#2a3f5f",
             "gridcolor": "white",
             "linecolor": "white",
             "minorgridcolor": "white",
             "startlinecolor": "#2a3f5f"
            },
            "type": "carpet"
           }
          ],
          "choropleth": [
           {
            "colorbar": {
             "outlinewidth": 0,
             "ticks": ""
            },
            "type": "choropleth"
           }
          ],
          "contour": [
           {
            "colorbar": {
             "outlinewidth": 0,
             "ticks": ""
            },
            "colorscale": [
             [
              0,
              "#0d0887"
             ],
             [
              0.1111111111111111,
              "#46039f"
             ],
             [
              0.2222222222222222,
              "#7201a8"
             ],
             [
              0.3333333333333333,
              "#9c179e"
             ],
             [
              0.4444444444444444,
              "#bd3786"
             ],
             [
              0.5555555555555556,
              "#d8576b"
             ],
             [
              0.6666666666666666,
              "#ed7953"
             ],
             [
              0.7777777777777778,
              "#fb9f3a"
             ],
             [
              0.8888888888888888,
              "#fdca26"
             ],
             [
              1,
              "#f0f921"
             ]
            ],
            "type": "contour"
           }
          ],
          "contourcarpet": [
           {
            "colorbar": {
             "outlinewidth": 0,
             "ticks": ""
            },
            "type": "contourcarpet"
           }
          ],
          "heatmap": [
           {
            "colorbar": {
             "outlinewidth": 0,
             "ticks": ""
            },
            "colorscale": [
             [
              0,
              "#0d0887"
             ],
             [
              0.1111111111111111,
              "#46039f"
             ],
             [
              0.2222222222222222,
              "#7201a8"
             ],
             [
              0.3333333333333333,
              "#9c179e"
             ],
             [
              0.4444444444444444,
              "#bd3786"
             ],
             [
              0.5555555555555556,
              "#d8576b"
             ],
             [
              0.6666666666666666,
              "#ed7953"
             ],
             [
              0.7777777777777778,
              "#fb9f3a"
             ],
             [
              0.8888888888888888,
              "#fdca26"
             ],
             [
              1,
              "#f0f921"
             ]
            ],
            "type": "heatmap"
           }
          ],
          "heatmapgl": [
           {
            "colorbar": {
             "outlinewidth": 0,
             "ticks": ""
            },
            "colorscale": [
             [
              0,
              "#0d0887"
             ],
             [
              0.1111111111111111,
              "#46039f"
             ],
             [
              0.2222222222222222,
              "#7201a8"
             ],
             [
              0.3333333333333333,
              "#9c179e"
             ],
             [
              0.4444444444444444,
              "#bd3786"
             ],
             [
              0.5555555555555556,
              "#d8576b"
             ],
             [
              0.6666666666666666,
              "#ed7953"
             ],
             [
              0.7777777777777778,
              "#fb9f3a"
             ],
             [
              0.8888888888888888,
              "#fdca26"
             ],
             [
              1,
              "#f0f921"
             ]
            ],
            "type": "heatmapgl"
           }
          ],
          "histogram": [
           {
            "marker": {
             "pattern": {
              "fillmode": "overlay",
              "size": 10,
              "solidity": 0.2
             }
            },
            "type": "histogram"
           }
          ],
          "histogram2d": [
           {
            "colorbar": {
             "outlinewidth": 0,
             "ticks": ""
            },
            "colorscale": [
             [
              0,
              "#0d0887"
             ],
             [
              0.1111111111111111,
              "#46039f"
             ],
             [
              0.2222222222222222,
              "#7201a8"
             ],
             [
              0.3333333333333333,
              "#9c179e"
             ],
             [
              0.4444444444444444,
              "#bd3786"
             ],
             [
              0.5555555555555556,
              "#d8576b"
             ],
             [
              0.6666666666666666,
              "#ed7953"
             ],
             [
              0.7777777777777778,
              "#fb9f3a"
             ],
             [
              0.8888888888888888,
              "#fdca26"
             ],
             [
              1,
              "#f0f921"
             ]
            ],
            "type": "histogram2d"
           }
          ],
          "histogram2dcontour": [
           {
            "colorbar": {
             "outlinewidth": 0,
             "ticks": ""
            },
            "colorscale": [
             [
              0,
              "#0d0887"
             ],
             [
              0.1111111111111111,
              "#46039f"
             ],
             [
              0.2222222222222222,
              "#7201a8"
             ],
             [
              0.3333333333333333,
              "#9c179e"
             ],
             [
              0.4444444444444444,
              "#bd3786"
             ],
             [
              0.5555555555555556,
              "#d8576b"
             ],
             [
              0.6666666666666666,
              "#ed7953"
             ],
             [
              0.7777777777777778,
              "#fb9f3a"
             ],
             [
              0.8888888888888888,
              "#fdca26"
             ],
             [
              1,
              "#f0f921"
             ]
            ],
            "type": "histogram2dcontour"
           }
          ],
          "mesh3d": [
           {
            "colorbar": {
             "outlinewidth": 0,
             "ticks": ""
            },
            "type": "mesh3d"
           }
          ],
          "parcoords": [
           {
            "line": {
             "colorbar": {
              "outlinewidth": 0,
              "ticks": ""
             }
            },
            "type": "parcoords"
           }
          ],
          "pie": [
           {
            "automargin": true,
            "type": "pie"
           }
          ],
          "scatter": [
           {
            "fillpattern": {
             "fillmode": "overlay",
             "size": 10,
             "solidity": 0.2
            },
            "type": "scatter"
           }
          ],
          "scatter3d": [
           {
            "line": {
             "colorbar": {
              "outlinewidth": 0,
              "ticks": ""
             }
            },
            "marker": {
             "colorbar": {
              "outlinewidth": 0,
              "ticks": ""
             }
            },
            "type": "scatter3d"
           }
          ],
          "scattercarpet": [
           {
            "marker": {
             "colorbar": {
              "outlinewidth": 0,
              "ticks": ""
             }
            },
            "type": "scattercarpet"
           }
          ],
          "scattergeo": [
           {
            "marker": {
             "colorbar": {
              "outlinewidth": 0,
              "ticks": ""
             }
            },
            "type": "scattergeo"
           }
          ],
          "scattergl": [
           {
            "marker": {
             "colorbar": {
              "outlinewidth": 0,
              "ticks": ""
             }
            },
            "type": "scattergl"
           }
          ],
          "scattermapbox": [
           {
            "marker": {
             "colorbar": {
              "outlinewidth": 0,
              "ticks": ""
             }
            },
            "type": "scattermapbox"
           }
          ],
          "scatterpolar": [
           {
            "marker": {
             "colorbar": {
              "outlinewidth": 0,
              "ticks": ""
             }
            },
            "type": "scatterpolar"
           }
          ],
          "scatterpolargl": [
           {
            "marker": {
             "colorbar": {
              "outlinewidth": 0,
              "ticks": ""
             }
            },
            "type": "scatterpolargl"
           }
          ],
          "scatterternary": [
           {
            "marker": {
             "colorbar": {
              "outlinewidth": 0,
              "ticks": ""
             }
            },
            "type": "scatterternary"
           }
          ],
          "surface": [
           {
            "colorbar": {
             "outlinewidth": 0,
             "ticks": ""
            },
            "colorscale": [
             [
              0,
              "#0d0887"
             ],
             [
              0.1111111111111111,
              "#46039f"
             ],
             [
              0.2222222222222222,
              "#7201a8"
             ],
             [
              0.3333333333333333,
              "#9c179e"
             ],
             [
              0.4444444444444444,
              "#bd3786"
             ],
             [
              0.5555555555555556,
              "#d8576b"
             ],
             [
              0.6666666666666666,
              "#ed7953"
             ],
             [
              0.7777777777777778,
              "#fb9f3a"
             ],
             [
              0.8888888888888888,
              "#fdca26"
             ],
             [
              1,
              "#f0f921"
             ]
            ],
            "type": "surface"
           }
          ],
          "table": [
           {
            "cells": {
             "fill": {
              "color": "#EBF0F8"
             },
             "line": {
              "color": "white"
             }
            },
            "header": {
             "fill": {
              "color": "#C8D4E3"
             },
             "line": {
              "color": "white"
             }
            },
            "type": "table"
           }
          ]
         },
         "layout": {
          "annotationdefaults": {
           "arrowcolor": "#2a3f5f",
           "arrowhead": 0,
           "arrowwidth": 1
          },
          "autotypenumbers": "strict",
          "coloraxis": {
           "colorbar": {
            "outlinewidth": 0,
            "ticks": ""
           }
          },
          "colorscale": {
           "diverging": [
            [
             0,
             "#8e0152"
            ],
            [
             0.1,
             "#c51b7d"
            ],
            [
             0.2,
             "#de77ae"
            ],
            [
             0.3,
             "#f1b6da"
            ],
            [
             0.4,
             "#fde0ef"
            ],
            [
             0.5,
             "#f7f7f7"
            ],
            [
             0.6,
             "#e6f5d0"
            ],
            [
             0.7,
             "#b8e186"
            ],
            [
             0.8,
             "#7fbc41"
            ],
            [
             0.9,
             "#4d9221"
            ],
            [
             1,
             "#276419"
            ]
           ],
           "sequential": [
            [
             0,
             "#0d0887"
            ],
            [
             0.1111111111111111,
             "#46039f"
            ],
            [
             0.2222222222222222,
             "#7201a8"
            ],
            [
             0.3333333333333333,
             "#9c179e"
            ],
            [
             0.4444444444444444,
             "#bd3786"
            ],
            [
             0.5555555555555556,
             "#d8576b"
            ],
            [
             0.6666666666666666,
             "#ed7953"
            ],
            [
             0.7777777777777778,
             "#fb9f3a"
            ],
            [
             0.8888888888888888,
             "#fdca26"
            ],
            [
             1,
             "#f0f921"
            ]
           ],
           "sequentialminus": [
            [
             0,
             "#0d0887"
            ],
            [
             0.1111111111111111,
             "#46039f"
            ],
            [
             0.2222222222222222,
             "#7201a8"
            ],
            [
             0.3333333333333333,
             "#9c179e"
            ],
            [
             0.4444444444444444,
             "#bd3786"
            ],
            [
             0.5555555555555556,
             "#d8576b"
            ],
            [
             0.6666666666666666,
             "#ed7953"
            ],
            [
             0.7777777777777778,
             "#fb9f3a"
            ],
            [
             0.8888888888888888,
             "#fdca26"
            ],
            [
             1,
             "#f0f921"
            ]
           ]
          },
          "colorway": [
           "#636efa",
           "#EF553B",
           "#00cc96",
           "#ab63fa",
           "#FFA15A",
           "#19d3f3",
           "#FF6692",
           "#B6E880",
           "#FF97FF",
           "#FECB52"
          ],
          "font": {
           "color": "#2a3f5f"
          },
          "geo": {
           "bgcolor": "white",
           "lakecolor": "white",
           "landcolor": "#E5ECF6",
           "showlakes": true,
           "showland": true,
           "subunitcolor": "white"
          },
          "hoverlabel": {
           "align": "left"
          },
          "hovermode": "closest",
          "mapbox": {
           "style": "light"
          },
          "paper_bgcolor": "white",
          "plot_bgcolor": "#E5ECF6",
          "polar": {
           "angularaxis": {
            "gridcolor": "white",
            "linecolor": "white",
            "ticks": ""
           },
           "bgcolor": "#E5ECF6",
           "radialaxis": {
            "gridcolor": "white",
            "linecolor": "white",
            "ticks": ""
           }
          },
          "scene": {
           "xaxis": {
            "backgroundcolor": "#E5ECF6",
            "gridcolor": "white",
            "gridwidth": 2,
            "linecolor": "white",
            "showbackground": true,
            "ticks": "",
            "zerolinecolor": "white"
           },
           "yaxis": {
            "backgroundcolor": "#E5ECF6",
            "gridcolor": "white",
            "gridwidth": 2,
            "linecolor": "white",
            "showbackground": true,
            "ticks": "",
            "zerolinecolor": "white"
           },
           "zaxis": {
            "backgroundcolor": "#E5ECF6",
            "gridcolor": "white",
            "gridwidth": 2,
            "linecolor": "white",
            "showbackground": true,
            "ticks": "",
            "zerolinecolor": "white"
           }
          },
          "shapedefaults": {
           "line": {
            "color": "#2a3f5f"
           }
          },
          "ternary": {
           "aaxis": {
            "gridcolor": "white",
            "linecolor": "white",
            "ticks": ""
           },
           "baxis": {
            "gridcolor": "white",
            "linecolor": "white",
            "ticks": ""
           },
           "bgcolor": "#E5ECF6",
           "caxis": {
            "gridcolor": "white",
            "linecolor": "white",
            "ticks": ""
           }
          },
          "title": {
           "x": 0.05
          },
          "xaxis": {
           "automargin": true,
           "gridcolor": "white",
           "linecolor": "white",
           "ticks": "",
           "title": {
            "standoff": 15
           },
           "zerolinecolor": "white",
           "zerolinewidth": 2
          },
          "yaxis": {
           "automargin": true,
           "gridcolor": "white",
           "linecolor": "white",
           "ticks": "",
           "title": {
            "standoff": 15
           },
           "zerolinecolor": "white",
           "zerolinewidth": 2
          }
         }
        },
        "title": {
         "text": "Frecuencia de muestreo de cada matriz (500 muestras) DESPUÉS de entrenar"
        },
        "xaxis": {
         "title": {
          "text": "ID Matriz"
         }
        },
        "yaxis": {
         "title": {
          "text": "Frecuencia"
         }
        }
       }
      }
     },
     "metadata": {},
     "output_type": "display_data"
    }
   ],
   "source": [
    "fig = go.Figure()\n",
    "fig.add_trace(go.Bar(x=list(range(512)), y=list(freq_after.values())))\n",
    "fig.update_layout(\n",
    "    title=\"Frecuencia de muestreo de cada matriz (500 muestras) DESPUÉS de entrenar\",\n",
    "    xaxis_title=\"ID Matriz\",\n",
    "    yaxis_title=\"Frecuencia\",\n",
    ")\n",
    "fig.show()"
   ]
  },
  {
   "cell_type": "code",
   "execution_count": 5,
   "metadata": {},
   "outputs": [
    {
     "name": "stdout",
     "output_type": "stream",
     "text": [
      "tensor(0.) tensor([0., 0., 0.], device='cuda:0')\n",
      "tensor(0.) tensor([0., 0., 1.], device='cuda:0')\n",
      "tensor(0.) tensor([0., 0., 0.], device='cuda:0')\n",
      "tensor(0.) tensor([0., 0., 1.], device='cuda:0')\n",
      "tensor(0.) tensor([0., 0., 0.], device='cuda:0')\n",
      "tensor(0.) tensor([0., 0., 1.], device='cuda:0')\n",
      "tensor(0.) tensor([0., 0., 0.], device='cuda:0')\n",
      "tensor(0.) tensor([0., 0., 1.], device='cuda:0')\n",
      "tensor(0.) tensor([0., 0., 0.], device='cuda:0')\n",
      "tensor(0.) tensor([0., 0., 1.], device='cuda:0')\n",
      "tensor(0.) tensor([0., 0., 0.], device='cuda:0')\n",
      "tensor(0.) tensor([0., 0., 1.], device='cuda:0')\n",
      "tensor(0.) tensor([0., 0., 0.], device='cuda:0')\n",
      "tensor(0.) tensor([0., 0., 1.], device='cuda:0')\n",
      "tensor(0.) tensor([0., 0., 0.], device='cuda:0')\n",
      "tensor(0.) tensor([0., 0., 1.], device='cuda:0')\n",
      "tensor(0.) tensor([0., 1., 0.], device='cuda:0')\n",
      "tensor(0.) tensor([0., 1., 1.], device='cuda:0')\n",
      "tensor(0.) tensor([0., 1., 0.], device='cuda:0')\n",
      "tensor(0.) tensor([0., 1., 1.], device='cuda:0')\n",
      "tensor(0.) tensor([0., 1., 0.], device='cuda:0')\n",
      "tensor(0.) tensor([0., 1., 1.], device='cuda:0')\n",
      "tensor(0.) tensor([0., 1., 0.], device='cuda:0')\n",
      "tensor(0.) tensor([0., 1., 1.], device='cuda:0')\n",
      "tensor(0.) tensor([0., 1., 0.], device='cuda:0')\n",
      "tensor(0.) tensor([0., 1., 1.], device='cuda:0')\n",
      "tensor(0.) tensor([0., 1., 0.], device='cuda:0')\n",
      "tensor(0.) tensor([0., 1., 1.], device='cuda:0')\n",
      "tensor(0.) tensor([0., 1., 0.], device='cuda:0')\n",
      "tensor(0.) tensor([0., 1., 1.], device='cuda:0')\n",
      "tensor(0.) tensor([0., 1., 0.], device='cuda:0')\n",
      "tensor(0.) tensor([0., 1., 1.], device='cuda:0')\n",
      "tensor(0.) tensor([0., 0., 0.], device='cuda:0')\n",
      "tensor(0.) tensor([0., 0., 1.], device='cuda:0')\n",
      "tensor(0.) tensor([0., 0., 0.], device='cuda:0')\n",
      "tensor(0.) tensor([0., 0., 1.], device='cuda:0')\n",
      "tensor(0.) tensor([0., 0., 0.], device='cuda:0')\n",
      "tensor(0.) tensor([0., 0., 1.], device='cuda:0')\n",
      "tensor(0.) tensor([0., 0., 0.], device='cuda:0')\n",
      "tensor(0.) tensor([0., 0., 1.], device='cuda:0')\n",
      "tensor(0.) tensor([0., 0., 0.], device='cuda:0')\n",
      "tensor(0.) tensor([0., 0., 1.], device='cuda:0')\n",
      "tensor(0.) tensor([0., 0., 0.], device='cuda:0')\n",
      "tensor(0.) tensor([0., 0., 1.], device='cuda:0')\n",
      "tensor(0.) tensor([0., 0., 0.], device='cuda:0')\n",
      "tensor(0.) tensor([0., 0., 1.], device='cuda:0')\n",
      "tensor(0.) tensor([0., 0., 0.], device='cuda:0')\n",
      "tensor(0.) tensor([0., 0., 1.], device='cuda:0')\n",
      "tensor(0.) tensor([0., 1., 0.], device='cuda:0')\n",
      "tensor(0.) tensor([0., 1., 1.], device='cuda:0')\n",
      "tensor(0.) tensor([0., 1., 0.], device='cuda:0')\n",
      "tensor(0.) tensor([0., 1., 1.], device='cuda:0')\n",
      "tensor(0.) tensor([0., 1., 0.], device='cuda:0')\n",
      "tensor(0.) tensor([0., 1., 1.], device='cuda:0')\n",
      "tensor(0.) tensor([0., 1., 0.], device='cuda:0')\n",
      "tensor(0.) tensor([0., 1., 1.], device='cuda:0')\n",
      "tensor(0.) tensor([0., 1., 0.], device='cuda:0')\n",
      "tensor(0.) tensor([0., 1., 1.], device='cuda:0')\n",
      "tensor(0.) tensor([0., 1., 0.], device='cuda:0')\n",
      "tensor(0.) tensor([0., 1., 1.], device='cuda:0')\n",
      "tensor(0.) tensor([0., 1., 0.], device='cuda:0')\n",
      "tensor(0.) tensor([0., 1., 1.], device='cuda:0')\n",
      "tensor(0.) tensor([0., 1., 0.], device='cuda:0')\n",
      "tensor(0.) tensor([0., 1., 1.], device='cuda:0')\n",
      "tensor(0.) tensor([0., 0., 0.], device='cuda:0')\n",
      "tensor(0.) tensor([0., 0., 1.], device='cuda:0')\n",
      "tensor(0.) tensor([0., 0., 0.], device='cuda:0')\n",
      "tensor(0.) tensor([0., 0., 1.], device='cuda:0')\n",
      "tensor(0.) tensor([0., 0., 0.], device='cuda:0')\n",
      "tensor(0.) tensor([0., 0., 1.], device='cuda:0')\n",
      "tensor(0.) tensor([0., 0., 0.], device='cuda:0')\n",
      "tensor(0.) tensor([0., 0., 1.], device='cuda:0')\n",
      "tensor(0.) tensor([0., 0., 0.], device='cuda:0')\n",
      "tensor(0.) tensor([0., 0., 1.], device='cuda:0')\n",
      "tensor(0.) tensor([0., 0., 0.], device='cuda:0')\n",
      "tensor(0.) tensor([0., 0., 1.], device='cuda:0')\n",
      "tensor(0.) tensor([0., 0., 0.], device='cuda:0')\n",
      "tensor(0.) tensor([0., 0., 1.], device='cuda:0')\n",
      "tensor(0.) tensor([0., 0., 0.], device='cuda:0')\n",
      "tensor(0.) tensor([0., 0., 1.], device='cuda:0')\n",
      "tensor(0.) tensor([0., 1., 0.], device='cuda:0')\n",
      "tensor(0.) tensor([0., 1., 1.], device='cuda:0')\n",
      "tensor(0.) tensor([0., 1., 0.], device='cuda:0')\n",
      "tensor(0.) tensor([0., 1., 1.], device='cuda:0')\n",
      "tensor(0.) tensor([0., 1., 0.], device='cuda:0')\n",
      "tensor(0.) tensor([0., 1., 1.], device='cuda:0')\n",
      "tensor(0.) tensor([0., 1., 0.], device='cuda:0')\n",
      "tensor(0.) tensor([0., 1., 1.], device='cuda:0')\n",
      "tensor(0.) tensor([0., 1., 0.], device='cuda:0')\n",
      "tensor(0.) tensor([0., 1., 1.], device='cuda:0')\n",
      "tensor(0.) tensor([0., 1., 0.], device='cuda:0')\n",
      "tensor(0.) tensor([0., 1., 1.], device='cuda:0')\n",
      "tensor(0.) tensor([0., 1., 0.], device='cuda:0')\n",
      "tensor(0.) tensor([0., 1., 1.], device='cuda:0')\n",
      "tensor(0.) tensor([0., 1., 0.], device='cuda:0')\n",
      "tensor(0.) tensor([0., 1., 1.], device='cuda:0')\n",
      "tensor(0.) tensor([0., 0., 0.], device='cuda:0')\n",
      "tensor(0.) tensor([0., 0., 1.], device='cuda:0')\n",
      "tensor(0.) tensor([0., 0., 0.], device='cuda:0')\n",
      "tensor(0.) tensor([0., 0., 1.], device='cuda:0')\n",
      "tensor(0.) tensor([0., 0., 0.], device='cuda:0')\n",
      "tensor(0.) tensor([0., 0., 1.], device='cuda:0')\n",
      "tensor(0.) tensor([0., 0., 0.], device='cuda:0')\n",
      "tensor(0.) tensor([0., 0., 1.], device='cuda:0')\n",
      "tensor(0.) tensor([0., 0., 0.], device='cuda:0')\n",
      "tensor(0.) tensor([0., 0., 1.], device='cuda:0')\n",
      "tensor(0.) tensor([0., 0., 0.], device='cuda:0')\n",
      "tensor(0.) tensor([0., 0., 1.], device='cuda:0')\n",
      "tensor(0.) tensor([0., 0., 0.], device='cuda:0')\n",
      "tensor(0.) tensor([0., 0., 1.], device='cuda:0')\n",
      "tensor(0.) tensor([0., 0., 0.], device='cuda:0')\n",
      "tensor(0.) tensor([0., 0., 1.], device='cuda:0')\n",
      "tensor(0.) tensor([0., 1., 0.], device='cuda:0')\n",
      "tensor(0.) tensor([0., 1., 1.], device='cuda:0')\n",
      "tensor(0.) tensor([0., 1., 0.], device='cuda:0')\n",
      "tensor(0.) tensor([0., 1., 1.], device='cuda:0')\n",
      "tensor(0.) tensor([0., 1., 0.], device='cuda:0')\n",
      "tensor(0.) tensor([0., 1., 1.], device='cuda:0')\n",
      "tensor(0.) tensor([0., 1., 0.], device='cuda:0')\n",
      "tensor(0.) tensor([0., 1., 1.], device='cuda:0')\n",
      "tensor(0.) tensor([0., 1., 0.], device='cuda:0')\n",
      "tensor(0.) tensor([0., 1., 1.], device='cuda:0')\n",
      "tensor(0.) tensor([0., 1., 0.], device='cuda:0')\n",
      "tensor(0.) tensor([0., 1., 1.], device='cuda:0')\n",
      "tensor(0.) tensor([0., 1., 0.], device='cuda:0')\n",
      "tensor(0.) tensor([0., 1., 1.], device='cuda:0')\n",
      "tensor(0.) tensor([0., 1., 0.], device='cuda:0')\n",
      "tensor(0.) tensor([0., 1., 1.], device='cuda:0')\n",
      "tensor(0.) tensor([0., 0., 0.], device='cuda:0')\n",
      "tensor(0.) tensor([0., 0., 1.], device='cuda:0')\n",
      "tensor(0.) tensor([0., 0., 0.], device='cuda:0')\n",
      "tensor(0.) tensor([0., 0., 1.], device='cuda:0')\n",
      "tensor(0.) tensor([0., 0., 0.], device='cuda:0')\n",
      "tensor(0.) tensor([0., 0., 1.], device='cuda:0')\n",
      "tensor(0.) tensor([0., 0., 0.], device='cuda:0')\n",
      "tensor(0.) tensor([0., 0., 1.], device='cuda:0')\n",
      "tensor(0.) tensor([0., 0., 0.], device='cuda:0')\n",
      "tensor(0.) tensor([0., 0., 1.], device='cuda:0')\n",
      "tensor(0.) tensor([0., 0., 0.], device='cuda:0')\n",
      "tensor(0.) tensor([0., 0., 1.], device='cuda:0')\n",
      "tensor(0.) tensor([0., 0., 0.], device='cuda:0')\n",
      "tensor(0.) tensor([0., 0., 1.], device='cuda:0')\n",
      "tensor(0.) tensor([0., 0., 0.], device='cuda:0')\n",
      "tensor(0.) tensor([0., 0., 1.], device='cuda:0')\n",
      "tensor(0.) tensor([0., 1., 0.], device='cuda:0')\n",
      "tensor(0.) tensor([0., 1., 1.], device='cuda:0')\n",
      "tensor(0.) tensor([0., 1., 0.], device='cuda:0')\n",
      "tensor(0.) tensor([0., 1., 1.], device='cuda:0')\n",
      "tensor(0.) tensor([0., 1., 0.], device='cuda:0')\n",
      "tensor(0.) tensor([0., 1., 1.], device='cuda:0')\n",
      "tensor(0.) tensor([0., 1., 0.], device='cuda:0')\n",
      "tensor(0.) tensor([0., 1., 1.], device='cuda:0')\n",
      "tensor(0.) tensor([0., 1., 0.], device='cuda:0')\n",
      "tensor(0.) tensor([0., 1., 1.], device='cuda:0')\n",
      "tensor(0.) tensor([0., 1., 0.], device='cuda:0')\n",
      "tensor(0.) tensor([0., 1., 1.], device='cuda:0')\n",
      "tensor(0.) tensor([0., 1., 0.], device='cuda:0')\n",
      "tensor(0.) tensor([0., 1., 1.], device='cuda:0')\n",
      "tensor(0.) tensor([0., 1., 0.], device='cuda:0')\n",
      "tensor(0.) tensor([0., 1., 1.], device='cuda:0')\n",
      "tensor(0.) tensor([0., 0., 0.], device='cuda:0')\n",
      "tensor(0.) tensor([0., 0., 1.], device='cuda:0')\n",
      "tensor(0.) tensor([0., 0., 0.], device='cuda:0')\n",
      "tensor(0.) tensor([0., 0., 1.], device='cuda:0')\n",
      "tensor(0.) tensor([0., 0., 0.], device='cuda:0')\n",
      "tensor(0.) tensor([0., 0., 1.], device='cuda:0')\n",
      "tensor(0.) tensor([0., 0., 0.], device='cuda:0')\n",
      "tensor(0.) tensor([0., 0., 1.], device='cuda:0')\n",
      "tensor(0.) tensor([0., 0., 0.], device='cuda:0')\n",
      "tensor(0.) tensor([0., 0., 1.], device='cuda:0')\n",
      "tensor(0.) tensor([0., 0., 0.], device='cuda:0')\n",
      "tensor(0.) tensor([0., 0., 1.], device='cuda:0')\n",
      "tensor(0.) tensor([0., 0., 0.], device='cuda:0')\n",
      "tensor(0.) tensor([0., 0., 1.], device='cuda:0')\n",
      "tensor(0.) tensor([0., 0., 0.], device='cuda:0')\n",
      "tensor(0.) tensor([0., 0., 1.], device='cuda:0')\n",
      "tensor(0.) tensor([0., 1., 0.], device='cuda:0')\n",
      "tensor(0.) tensor([0., 1., 1.], device='cuda:0')\n",
      "tensor(0.) tensor([0., 1., 0.], device='cuda:0')\n",
      "tensor(0.) tensor([0., 1., 1.], device='cuda:0')\n",
      "tensor(0.) tensor([0., 1., 0.], device='cuda:0')\n",
      "tensor(0.) tensor([0., 1., 1.], device='cuda:0')\n",
      "tensor(0.) tensor([0., 1., 0.], device='cuda:0')\n",
      "tensor(0.) tensor([0., 1., 1.], device='cuda:0')\n",
      "tensor(0.) tensor([0., 1., 0.], device='cuda:0')\n",
      "tensor(0.) tensor([0., 1., 1.], device='cuda:0')\n",
      "tensor(0.) tensor([0., 1., 0.], device='cuda:0')\n",
      "tensor(0.) tensor([0., 1., 1.], device='cuda:0')\n",
      "tensor(0.) tensor([0., 1., 0.], device='cuda:0')\n",
      "tensor(0.) tensor([0., 1., 1.], device='cuda:0')\n",
      "tensor(0.) tensor([0., 1., 0.], device='cuda:0')\n",
      "tensor(0.) tensor([0., 1., 1.], device='cuda:0')\n",
      "tensor(0.) tensor([0., 0., 0.], device='cuda:0')\n",
      "tensor(0.) tensor([0., 0., 1.], device='cuda:0')\n",
      "tensor(0.) tensor([0., 0., 0.], device='cuda:0')\n",
      "tensor(0.) tensor([0., 0., 1.], device='cuda:0')\n",
      "tensor(0.) tensor([0., 0., 0.], device='cuda:0')\n",
      "tensor(0.) tensor([0., 0., 1.], device='cuda:0')\n",
      "tensor(0.) tensor([0., 0., 0.], device='cuda:0')\n",
      "tensor(0.) tensor([0., 0., 1.], device='cuda:0')\n",
      "tensor(0.) tensor([0., 0., 0.], device='cuda:0')\n",
      "tensor(0.) tensor([0., 0., 1.], device='cuda:0')\n",
      "tensor(0.) tensor([0., 0., 0.], device='cuda:0')\n",
      "tensor(0.) tensor([0., 0., 1.], device='cuda:0')\n",
      "tensor(0.) tensor([0., 0., 0.], device='cuda:0')\n",
      "tensor(0.) tensor([0., 0., 1.], device='cuda:0')\n",
      "tensor(0.) tensor([0., 0., 0.], device='cuda:0')\n",
      "tensor(0.) tensor([0., 0., 1.], device='cuda:0')\n",
      "tensor(0.) tensor([0., 1., 0.], device='cuda:0')\n",
      "tensor(0.) tensor([0., 1., 1.], device='cuda:0')\n",
      "tensor(0.) tensor([0., 1., 0.], device='cuda:0')\n",
      "tensor(0.) tensor([0., 1., 1.], device='cuda:0')\n",
      "tensor(0.) tensor([0., 1., 0.], device='cuda:0')\n",
      "tensor(0.) tensor([0., 1., 1.], device='cuda:0')\n",
      "tensor(0.) tensor([0., 1., 0.], device='cuda:0')\n",
      "tensor(0.) tensor([0., 1., 1.], device='cuda:0')\n",
      "tensor(0.) tensor([0., 1., 0.], device='cuda:0')\n",
      "tensor(0.) tensor([0., 1., 1.], device='cuda:0')\n",
      "tensor(0.) tensor([0., 1., 0.], device='cuda:0')\n",
      "tensor(0.) tensor([0., 1., 1.], device='cuda:0')\n",
      "tensor(0.) tensor([0., 1., 0.], device='cuda:0')\n",
      "tensor(0.) tensor([0., 1., 1.], device='cuda:0')\n",
      "tensor(0.) tensor([0., 1., 0.], device='cuda:0')\n",
      "tensor(0.) tensor([0., 1., 1.], device='cuda:0')\n",
      "tensor(0.) tensor([0., 0., 0.], device='cuda:0')\n",
      "tensor(0.) tensor([0., 0., 1.], device='cuda:0')\n",
      "tensor(0.) tensor([0., 0., 0.], device='cuda:0')\n",
      "tensor(0.) tensor([0., 0., 1.], device='cuda:0')\n",
      "tensor(0.) tensor([0., 0., 0.], device='cuda:0')\n",
      "tensor(0.) tensor([0., 0., 1.], device='cuda:0')\n",
      "tensor(0.) tensor([0., 0., 0.], device='cuda:0')\n",
      "tensor(0.) tensor([0., 0., 1.], device='cuda:0')\n",
      "tensor(0.) tensor([0., 0., 0.], device='cuda:0')\n",
      "tensor(0.) tensor([0., 0., 1.], device='cuda:0')\n",
      "tensor(0.) tensor([0., 0., 0.], device='cuda:0')\n",
      "tensor(0.) tensor([0., 0., 1.], device='cuda:0')\n",
      "tensor(0.) tensor([0., 0., 0.], device='cuda:0')\n",
      "tensor(0.) tensor([0., 0., 1.], device='cuda:0')\n",
      "tensor(3.9886, device='cuda:0') tensor([0., 0., 0.], device='cuda:0')\n",
      "tensor(0.) tensor([0., 0., 1.], device='cuda:0')\n",
      "tensor(0.) tensor([0., 1., 0.], device='cuda:0')\n",
      "tensor(0.) tensor([0., 1., 1.], device='cuda:0')\n",
      "tensor(0.) tensor([0., 1., 0.], device='cuda:0')\n",
      "tensor(0.) tensor([0., 1., 1.], device='cuda:0')\n",
      "tensor(0.) tensor([0., 1., 0.], device='cuda:0')\n",
      "tensor(0.) tensor([0., 1., 1.], device='cuda:0')\n",
      "tensor(0.) tensor([0., 1., 0.], device='cuda:0')\n",
      "tensor(0.) tensor([0., 1., 1.], device='cuda:0')\n",
      "tensor(0.) tensor([0., 1., 0.], device='cuda:0')\n",
      "tensor(0.) tensor([0., 1., 1.], device='cuda:0')\n",
      "tensor(0.) tensor([0., 1., 0.], device='cuda:0')\n",
      "tensor(0.) tensor([0., 1., 1.], device='cuda:0')\n",
      "tensor(0.) tensor([0., 1., 0.], device='cuda:0')\n",
      "tensor(0.) tensor([0., 1., 1.], device='cuda:0')\n",
      "tensor(0.) tensor([0., 1., 0.], device='cuda:0')\n",
      "tensor(0.) tensor([0., 1., 1.], device='cuda:0')\n",
      "tensor(0.) tensor([1., 0., 0.], device='cuda:0')\n",
      "tensor(0.) tensor([1., 0., 1.], device='cuda:0')\n",
      "tensor(0.) tensor([1., 0., 0.], device='cuda:0')\n",
      "tensor(0.) tensor([1., 0., 1.], device='cuda:0')\n",
      "tensor(0.) tensor([1., 0., 0.], device='cuda:0')\n",
      "tensor(0.) tensor([1., 0., 1.], device='cuda:0')\n",
      "tensor(0.) tensor([1., 0., 0.], device='cuda:0')\n",
      "tensor(0.) tensor([1., 0., 1.], device='cuda:0')\n",
      "tensor(0.) tensor([1., 0., 0.], device='cuda:0')\n",
      "tensor(0.) tensor([1., 0., 1.], device='cuda:0')\n",
      "tensor(0.) tensor([1., 0., 0.], device='cuda:0')\n",
      "tensor(0.) tensor([1., 0., 1.], device='cuda:0')\n",
      "tensor(0.) tensor([1., 0., 0.], device='cuda:0')\n",
      "tensor(0.) tensor([1., 0., 1.], device='cuda:0')\n",
      "tensor(0.) tensor([1., 0., 0.], device='cuda:0')\n",
      "tensor(0.) tensor([1., 0., 1.], device='cuda:0')\n",
      "tensor(0.) tensor([1., 1., 0.], device='cuda:0')\n",
      "tensor(0.) tensor([1., 1., 1.], device='cuda:0')\n",
      "tensor(0.) tensor([1., 1., 0.], device='cuda:0')\n",
      "tensor(0.) tensor([1., 1., 1.], device='cuda:0')\n",
      "tensor(0.) tensor([1., 1., 0.], device='cuda:0')\n",
      "tensor(0.) tensor([1., 1., 1.], device='cuda:0')\n",
      "tensor(0.) tensor([1., 1., 0.], device='cuda:0')\n",
      "tensor(0.) tensor([1., 1., 1.], device='cuda:0')\n",
      "tensor(0.) tensor([1., 1., 0.], device='cuda:0')\n",
      "tensor(0.) tensor([1., 1., 1.], device='cuda:0')\n",
      "tensor(0.) tensor([1., 1., 0.], device='cuda:0')\n",
      "tensor(0.) tensor([1., 1., 1.], device='cuda:0')\n",
      "tensor(0.) tensor([1., 1., 0.], device='cuda:0')\n",
      "tensor(0.) tensor([1., 1., 1.], device='cuda:0')\n",
      "tensor(0.) tensor([1., 1., 0.], device='cuda:0')\n",
      "tensor(0.) tensor([1., 1., 1.], device='cuda:0')\n",
      "tensor(0.) tensor([1., 0., 0.], device='cuda:0')\n",
      "tensor(0.) tensor([1., 0., 1.], device='cuda:0')\n",
      "tensor(0.) tensor([1., 0., 0.], device='cuda:0')\n",
      "tensor(0.) tensor([1., 0., 1.], device='cuda:0')\n",
      "tensor(0.) tensor([1., 0., 0.], device='cuda:0')\n",
      "tensor(0.) tensor([1., 0., 1.], device='cuda:0')\n",
      "tensor(0.) tensor([1., 0., 0.], device='cuda:0')\n",
      "tensor(0.) tensor([1., 0., 1.], device='cuda:0')\n",
      "tensor(0.) tensor([1., 0., 0.], device='cuda:0')\n",
      "tensor(0.) tensor([1., 0., 1.], device='cuda:0')\n",
      "tensor(0.) tensor([1., 0., 0.], device='cuda:0')\n",
      "tensor(0.) tensor([1., 0., 1.], device='cuda:0')\n",
      "tensor(0.) tensor([1., 0., 0.], device='cuda:0')\n",
      "tensor(0.) tensor([1., 0., 1.], device='cuda:0')\n",
      "tensor(0.) tensor([1., 0., 0.], device='cuda:0')\n",
      "tensor(0.) tensor([1., 0., 1.], device='cuda:0')\n",
      "tensor(0.) tensor([1., 1., 0.], device='cuda:0')\n",
      "tensor(0.) tensor([1., 1., 1.], device='cuda:0')\n",
      "tensor(0.) tensor([1., 1., 0.], device='cuda:0')\n",
      "tensor(0.) tensor([1., 1., 1.], device='cuda:0')\n",
      "tensor(0.) tensor([1., 1., 0.], device='cuda:0')\n",
      "tensor(0.) tensor([1., 1., 1.], device='cuda:0')\n",
      "tensor(0.) tensor([1., 1., 0.], device='cuda:0')\n",
      "tensor(0.) tensor([1., 1., 1.], device='cuda:0')\n",
      "tensor(0.) tensor([1., 1., 0.], device='cuda:0')\n",
      "tensor(0.) tensor([1., 1., 1.], device='cuda:0')\n",
      "tensor(0.) tensor([1., 1., 0.], device='cuda:0')\n",
      "tensor(0.) tensor([1., 1., 1.], device='cuda:0')\n",
      "tensor(0.) tensor([1., 1., 0.], device='cuda:0')\n",
      "tensor(0.) tensor([1., 1., 1.], device='cuda:0')\n",
      "tensor(0.) tensor([1., 1., 0.], device='cuda:0')\n",
      "tensor(0.) tensor([1., 1., 1.], device='cuda:0')\n",
      "tensor(0.) tensor([1., 0., 0.], device='cuda:0')\n",
      "tensor(0.) tensor([1., 0., 1.], device='cuda:0')\n",
      "tensor(0.) tensor([1., 0., 0.], device='cuda:0')\n",
      "tensor(0.) tensor([1., 0., 1.], device='cuda:0')\n",
      "tensor(0.) tensor([1., 0., 0.], device='cuda:0')\n",
      "tensor(0.) tensor([1., 0., 1.], device='cuda:0')\n",
      "tensor(0.) tensor([1., 0., 0.], device='cuda:0')\n",
      "tensor(0.) tensor([1., 0., 1.], device='cuda:0')\n",
      "tensor(0.) tensor([1., 0., 0.], device='cuda:0')\n",
      "tensor(0.) tensor([1., 0., 1.], device='cuda:0')\n",
      "tensor(0.) tensor([1., 0., 0.], device='cuda:0')\n",
      "tensor(0.) tensor([1., 0., 1.], device='cuda:0')\n",
      "tensor(0.) tensor([1., 0., 0.], device='cuda:0')\n",
      "tensor(0.) tensor([1., 0., 1.], device='cuda:0')\n",
      "tensor(0.) tensor([1., 0., 0.], device='cuda:0')\n",
      "tensor(0.) tensor([1., 0., 1.], device='cuda:0')\n",
      "tensor(0.) tensor([1., 1., 0.], device='cuda:0')\n",
      "tensor(0.) tensor([1., 1., 1.], device='cuda:0')\n",
      "tensor(0.) tensor([1., 1., 0.], device='cuda:0')\n",
      "tensor(0.) tensor([1., 1., 1.], device='cuda:0')\n",
      "tensor(0.) tensor([1., 1., 0.], device='cuda:0')\n",
      "tensor(0.) tensor([1., 1., 1.], device='cuda:0')\n",
      "tensor(0.) tensor([1., 1., 0.], device='cuda:0')\n",
      "tensor(0.) tensor([1., 1., 1.], device='cuda:0')\n",
      "tensor(0.) tensor([1., 1., 0.], device='cuda:0')\n",
      "tensor(0.) tensor([1., 1., 1.], device='cuda:0')\n",
      "tensor(0.) tensor([1., 1., 0.], device='cuda:0')\n",
      "tensor(0.) tensor([1., 1., 1.], device='cuda:0')\n",
      "tensor(0.) tensor([1., 1., 0.], device='cuda:0')\n",
      "tensor(0.) tensor([1., 1., 1.], device='cuda:0')\n",
      "tensor(0.) tensor([1., 1., 0.], device='cuda:0')\n",
      "tensor(0.) tensor([1., 1., 1.], device='cuda:0')\n",
      "tensor(0.) tensor([1., 0., 0.], device='cuda:0')\n",
      "tensor(0.) tensor([1., 0., 1.], device='cuda:0')\n",
      "tensor(0.) tensor([1., 0., 0.], device='cuda:0')\n",
      "tensor(0.) tensor([1., 0., 1.], device='cuda:0')\n",
      "tensor(0.) tensor([1., 0., 0.], device='cuda:0')\n",
      "tensor(0.) tensor([1., 0., 1.], device='cuda:0')\n",
      "tensor(0.) tensor([1., 0., 0.], device='cuda:0')\n",
      "tensor(0.) tensor([1., 0., 1.], device='cuda:0')\n",
      "tensor(0.) tensor([1., 0., 0.], device='cuda:0')\n",
      "tensor(0.) tensor([1., 0., 1.], device='cuda:0')\n",
      "tensor(0.) tensor([1., 0., 0.], device='cuda:0')\n",
      "tensor(0.) tensor([1., 0., 1.], device='cuda:0')\n",
      "tensor(0.) tensor([1., 0., 0.], device='cuda:0')\n",
      "tensor(0.) tensor([1., 0., 1.], device='cuda:0')\n",
      "tensor(0.) tensor([1., 0., 0.], device='cuda:0')\n",
      "tensor(0.) tensor([1., 0., 1.], device='cuda:0')\n",
      "tensor(0.) tensor([1., 1., 0.], device='cuda:0')\n",
      "tensor(0.) tensor([1., 1., 1.], device='cuda:0')\n",
      "tensor(0.) tensor([1., 1., 0.], device='cuda:0')\n",
      "tensor(0.) tensor([1., 1., 1.], device='cuda:0')\n",
      "tensor(0.) tensor([1., 1., 0.], device='cuda:0')\n",
      "tensor(0.) tensor([1., 1., 1.], device='cuda:0')\n",
      "tensor(0.) tensor([1., 1., 0.], device='cuda:0')\n",
      "tensor(0.) tensor([1., 1., 1.], device='cuda:0')\n",
      "tensor(0.) tensor([1., 1., 0.], device='cuda:0')\n",
      "tensor(0.) tensor([1., 1., 1.], device='cuda:0')\n",
      "tensor(0.) tensor([1., 1., 0.], device='cuda:0')\n",
      "tensor(0.) tensor([1., 1., 1.], device='cuda:0')\n",
      "tensor(0.) tensor([1., 1., 0.], device='cuda:0')\n",
      "tensor(0.) tensor([1., 1., 1.], device='cuda:0')\n",
      "tensor(0.) tensor([1., 1., 0.], device='cuda:0')\n",
      "tensor(0.) tensor([1., 1., 1.], device='cuda:0')\n",
      "tensor(0.) tensor([1., 0., 0.], device='cuda:0')\n",
      "tensor(0.) tensor([1., 0., 1.], device='cuda:0')\n",
      "tensor(0.) tensor([1., 0., 0.], device='cuda:0')\n",
      "tensor(0.) tensor([1., 0., 1.], device='cuda:0')\n",
      "tensor(0.) tensor([1., 0., 0.], device='cuda:0')\n",
      "tensor(0.) tensor([1., 0., 1.], device='cuda:0')\n",
      "tensor(0.) tensor([1., 0., 0.], device='cuda:0')\n",
      "tensor(0.) tensor([1., 0., 1.], device='cuda:0')\n",
      "tensor(0.) tensor([1., 0., 0.], device='cuda:0')\n",
      "tensor(0.) tensor([1., 0., 1.], device='cuda:0')\n",
      "tensor(0.) tensor([1., 0., 0.], device='cuda:0')\n",
      "tensor(0.) tensor([1., 0., 1.], device='cuda:0')\n",
      "tensor(0.) tensor([1., 0., 0.], device='cuda:0')\n",
      "tensor(0.) tensor([1., 0., 1.], device='cuda:0')\n",
      "tensor(0.) tensor([1., 0., 0.], device='cuda:0')\n",
      "tensor(0.) tensor([1., 0., 1.], device='cuda:0')\n",
      "tensor(0.) tensor([1., 1., 0.], device='cuda:0')\n",
      "tensor(0.) tensor([1., 1., 1.], device='cuda:0')\n",
      "tensor(0.) tensor([1., 1., 0.], device='cuda:0')\n",
      "tensor(0.) tensor([1., 1., 1.], device='cuda:0')\n",
      "tensor(0.) tensor([1., 1., 0.], device='cuda:0')\n",
      "tensor(0.) tensor([1., 1., 1.], device='cuda:0')\n",
      "tensor(0.) tensor([1., 1., 0.], device='cuda:0')\n",
      "tensor(0.) tensor([1., 1., 1.], device='cuda:0')\n",
      "tensor(0.) tensor([1., 1., 0.], device='cuda:0')\n",
      "tensor(0.) tensor([1., 1., 1.], device='cuda:0')\n",
      "tensor(0.) tensor([1., 1., 0.], device='cuda:0')\n",
      "tensor(0.) tensor([1., 1., 1.], device='cuda:0')\n",
      "tensor(0.) tensor([1., 1., 0.], device='cuda:0')\n",
      "tensor(0.) tensor([1., 1., 1.], device='cuda:0')\n",
      "tensor(0.) tensor([1., 1., 0.], device='cuda:0')\n",
      "tensor(0.) tensor([1., 1., 1.], device='cuda:0')\n",
      "tensor(0.) tensor([1., 0., 0.], device='cuda:0')\n",
      "tensor(0.) tensor([1., 0., 1.], device='cuda:0')\n",
      "tensor(0.) tensor([1., 0., 0.], device='cuda:0')\n",
      "tensor(0.) tensor([1., 0., 1.], device='cuda:0')\n",
      "tensor(0.) tensor([1., 0., 0.], device='cuda:0')\n",
      "tensor(0.) tensor([1., 0., 1.], device='cuda:0')\n",
      "tensor(0.) tensor([1., 0., 0.], device='cuda:0')\n",
      "tensor(0.) tensor([1., 0., 1.], device='cuda:0')\n",
      "tensor(0.) tensor([1., 0., 0.], device='cuda:0')\n",
      "tensor(0.) tensor([1., 0., 1.], device='cuda:0')\n",
      "tensor(0.) tensor([1., 0., 0.], device='cuda:0')\n",
      "tensor(0.) tensor([1., 0., 1.], device='cuda:0')\n",
      "tensor(0.) tensor([1., 0., 0.], device='cuda:0')\n",
      "tensor(0.) tensor([1., 0., 1.], device='cuda:0')\n",
      "tensor(0.) tensor([1., 0., 0.], device='cuda:0')\n",
      "tensor(0.) tensor([1., 0., 1.], device='cuda:0')\n",
      "tensor(0.) tensor([1., 1., 0.], device='cuda:0')\n",
      "tensor(0.) tensor([1., 1., 1.], device='cuda:0')\n",
      "tensor(0.) tensor([1., 1., 0.], device='cuda:0')\n",
      "tensor(0.) tensor([1., 1., 1.], device='cuda:0')\n",
      "tensor(0.) tensor([1., 1., 0.], device='cuda:0')\n",
      "tensor(0.) tensor([1., 1., 1.], device='cuda:0')\n",
      "tensor(0.) tensor([1., 1., 0.], device='cuda:0')\n",
      "tensor(0.) tensor([1., 1., 1.], device='cuda:0')\n",
      "tensor(0.) tensor([1., 1., 0.], device='cuda:0')\n",
      "tensor(0.) tensor([1., 1., 1.], device='cuda:0')\n",
      "tensor(0.) tensor([1., 1., 0.], device='cuda:0')\n",
      "tensor(0.) tensor([1., 1., 1.], device='cuda:0')\n",
      "tensor(0.) tensor([1., 1., 0.], device='cuda:0')\n",
      "tensor(0.) tensor([1., 1., 1.], device='cuda:0')\n",
      "tensor(0.) tensor([1., 1., 0.], device='cuda:0')\n",
      "tensor(0.) tensor([1., 1., 1.], device='cuda:0')\n",
      "tensor(0.) tensor([1., 0., 0.], device='cuda:0')\n",
      "tensor(0.) tensor([1., 0., 1.], device='cuda:0')\n",
      "tensor(0.) tensor([1., 0., 0.], device='cuda:0')\n",
      "tensor(0.) tensor([1., 0., 1.], device='cuda:0')\n",
      "tensor(0.) tensor([1., 0., 0.], device='cuda:0')\n",
      "tensor(0.) tensor([1., 0., 1.], device='cuda:0')\n",
      "tensor(0.) tensor([1., 0., 0.], device='cuda:0')\n",
      "tensor(0.) tensor([1., 0., 1.], device='cuda:0')\n",
      "tensor(0.) tensor([1., 0., 0.], device='cuda:0')\n",
      "tensor(0.) tensor([1., 0., 1.], device='cuda:0')\n",
      "tensor(0.) tensor([1., 0., 0.], device='cuda:0')\n",
      "tensor(0.) tensor([1., 0., 1.], device='cuda:0')\n",
      "tensor(0.) tensor([1., 0., 0.], device='cuda:0')\n",
      "tensor(0.) tensor([1., 0., 1.], device='cuda:0')\n",
      "tensor(0.) tensor([1., 0., 0.], device='cuda:0')\n",
      "tensor(0.) tensor([1., 0., 1.], device='cuda:0')\n",
      "tensor(0.) tensor([1., 1., 0.], device='cuda:0')\n",
      "tensor(0.) tensor([1., 1., 1.], device='cuda:0')\n",
      "tensor(0.) tensor([1., 1., 0.], device='cuda:0')\n",
      "tensor(0.) tensor([1., 1., 1.], device='cuda:0')\n",
      "tensor(0.) tensor([1., 1., 0.], device='cuda:0')\n",
      "tensor(0.) tensor([1., 1., 1.], device='cuda:0')\n",
      "tensor(0.) tensor([1., 1., 0.], device='cuda:0')\n",
      "tensor(0.) tensor([1., 1., 1.], device='cuda:0')\n",
      "tensor(0.) tensor([1., 1., 0.], device='cuda:0')\n",
      "tensor(0.) tensor([1., 1., 1.], device='cuda:0')\n",
      "tensor(0.) tensor([1., 1., 0.], device='cuda:0')\n",
      "tensor(0.) tensor([1., 1., 1.], device='cuda:0')\n",
      "tensor(0.) tensor([1., 1., 0.], device='cuda:0')\n",
      "tensor(0.) tensor([1., 1., 1.], device='cuda:0')\n",
      "tensor(0.) tensor([1., 1., 0.], device='cuda:0')\n",
      "tensor(0.) tensor([1., 1., 1.], device='cuda:0')\n",
      "tensor(0.) tensor([1., 0., 0.], device='cuda:0')\n",
      "tensor(0.) tensor([1., 0., 1.], device='cuda:0')\n",
      "tensor(0.) tensor([1., 0., 0.], device='cuda:0')\n",
      "tensor(0.) tensor([1., 0., 1.], device='cuda:0')\n",
      "tensor(0.) tensor([1., 0., 0.], device='cuda:0')\n",
      "tensor(0.) tensor([1., 0., 1.], device='cuda:0')\n",
      "tensor(0.) tensor([1., 0., 0.], device='cuda:0')\n",
      "tensor(0.) tensor([1., 0., 1.], device='cuda:0')\n",
      "tensor(0.) tensor([1., 0., 0.], device='cuda:0')\n",
      "tensor(0.) tensor([1., 0., 1.], device='cuda:0')\n",
      "tensor(0.) tensor([1., 0., 0.], device='cuda:0')\n",
      "tensor(0.) tensor([1., 0., 1.], device='cuda:0')\n",
      "tensor(0.) tensor([1., 0., 0.], device='cuda:0')\n",
      "tensor(0.) tensor([1., 0., 1.], device='cuda:0')\n",
      "tensor(0.) tensor([1., 0., 0.], device='cuda:0')\n",
      "tensor(0.) tensor([1., 0., 1.], device='cuda:0')\n",
      "tensor(0.) tensor([1., 1., 0.], device='cuda:0')\n",
      "tensor(0.) tensor([1., 1., 1.], device='cuda:0')\n",
      "tensor(0.) tensor([1., 1., 0.], device='cuda:0')\n",
      "tensor(0.) tensor([1., 1., 1.], device='cuda:0')\n",
      "tensor(0.) tensor([1., 1., 0.], device='cuda:0')\n",
      "tensor(0.) tensor([1., 1., 1.], device='cuda:0')\n",
      "tensor(0.) tensor([1., 1., 0.], device='cuda:0')\n",
      "tensor(0.) tensor([1., 1., 1.], device='cuda:0')\n",
      "tensor(0.) tensor([1., 1., 0.], device='cuda:0')\n",
      "tensor(0.) tensor([1., 1., 1.], device='cuda:0')\n",
      "tensor(0.) tensor([1., 1., 0.], device='cuda:0')\n",
      "tensor(0.) tensor([1., 1., 1.], device='cuda:0')\n",
      "tensor(0.) tensor([1., 1., 0.], device='cuda:0')\n",
      "tensor(0.) tensor([1., 1., 1.], device='cuda:0')\n",
      "tensor(0.) tensor([1., 1., 0.], device='cuda:0')\n",
      "tensor(0.) tensor([1., 1., 1.], device='cuda:0')\n"
     ]
    }
   ],
   "source": [
    "torch.manual_seed(0)\n",
    "x0 = torch.rand(3, device=\"cuda\")\n",
    "org_simulation = simulator.simulate_neurons((torch.ones(3, 3) - torch.eye(3)).cuda(), timesteps=100, initial_value=x0)\n",
    "matrices, _ = get_all_binary_matrices(9, F_sa)\n",
    "rewards = []\n",
    "for matrix in matrices:\n",
    "    matrix_cuda = matrix.cuda().reshape(3, 3)\n",
    "    simulation = simulator.simulate_neurons(matrix_cuda, timesteps=100, initial_value=x0)\n",
    "    rewards.append(r := engine.reward_function(org_simulation, simulation, matrix=matrix_cuda, kernel_width=0.1))\n",
    "    print(r, torch.diag(matrix.reshape(3, 3)))"
   ]
  },
  {
   "cell_type": "code",
   "execution_count": 6,
   "metadata": {},
   "outputs": [
    {
     "data": {
      "application/vnd.plotly.v1+json": {
       "config": {
        "plotlyServerURL": "https://plot.ly"
       },
       "data": [
        {
         "type": "bar",
         "x": [
          0,
          1,
          2,
          3,
          4,
          5,
          6,
          7,
          8,
          9,
          10,
          11,
          12,
          13,
          14,
          15,
          16,
          17,
          18,
          19,
          20,
          21,
          22,
          23,
          24,
          25,
          26,
          27,
          28,
          29,
          30,
          31,
          32,
          33,
          34,
          35,
          36,
          37,
          38,
          39,
          40,
          41,
          42,
          43,
          44,
          45,
          46,
          47,
          48,
          49,
          50,
          51,
          52,
          53,
          54,
          55,
          56,
          57,
          58,
          59,
          60,
          61,
          62,
          63,
          64,
          65,
          66,
          67,
          68,
          69,
          70,
          71,
          72,
          73,
          74,
          75,
          76,
          77,
          78,
          79,
          80,
          81,
          82,
          83,
          84,
          85,
          86,
          87,
          88,
          89,
          90,
          91,
          92,
          93,
          94,
          95,
          96,
          97,
          98,
          99,
          100,
          101,
          102,
          103,
          104,
          105,
          106,
          107,
          108,
          109,
          110,
          111,
          112,
          113,
          114,
          115,
          116,
          117,
          118,
          119,
          120,
          121,
          122,
          123,
          124,
          125,
          126,
          127,
          128,
          129,
          130,
          131,
          132,
          133,
          134,
          135,
          136,
          137,
          138,
          139,
          140,
          141,
          142,
          143,
          144,
          145,
          146,
          147,
          148,
          149,
          150,
          151,
          152,
          153,
          154,
          155,
          156,
          157,
          158,
          159,
          160,
          161,
          162,
          163,
          164,
          165,
          166,
          167,
          168,
          169,
          170,
          171,
          172,
          173,
          174,
          175,
          176,
          177,
          178,
          179,
          180,
          181,
          182,
          183,
          184,
          185,
          186,
          187,
          188,
          189,
          190,
          191,
          192,
          193,
          194,
          195,
          196,
          197,
          198,
          199,
          200,
          201,
          202,
          203,
          204,
          205,
          206,
          207,
          208,
          209,
          210,
          211,
          212,
          213,
          214,
          215,
          216,
          217,
          218,
          219,
          220,
          221,
          222,
          223,
          224,
          225,
          226,
          227,
          228,
          229,
          230,
          231,
          232,
          233,
          234,
          235,
          236,
          237,
          238,
          239,
          240,
          241,
          242,
          243,
          244,
          245,
          246,
          247,
          248,
          249,
          250,
          251,
          252,
          253,
          254,
          255,
          256,
          257,
          258,
          259,
          260,
          261,
          262,
          263,
          264,
          265,
          266,
          267,
          268,
          269,
          270,
          271,
          272,
          273,
          274,
          275,
          276,
          277,
          278,
          279,
          280,
          281,
          282,
          283,
          284,
          285,
          286,
          287,
          288,
          289,
          290,
          291,
          292,
          293,
          294,
          295,
          296,
          297,
          298,
          299,
          300,
          301,
          302,
          303,
          304,
          305,
          306,
          307,
          308,
          309,
          310,
          311,
          312,
          313,
          314,
          315,
          316,
          317,
          318,
          319,
          320,
          321,
          322,
          323,
          324,
          325,
          326,
          327,
          328,
          329,
          330,
          331,
          332,
          333,
          334,
          335,
          336,
          337,
          338,
          339,
          340,
          341,
          342,
          343,
          344,
          345,
          346,
          347,
          348,
          349,
          350,
          351,
          352,
          353,
          354,
          355,
          356,
          357,
          358,
          359,
          360,
          361,
          362,
          363,
          364,
          365,
          366,
          367,
          368,
          369,
          370,
          371,
          372,
          373,
          374,
          375,
          376,
          377,
          378,
          379,
          380,
          381,
          382,
          383,
          384,
          385,
          386,
          387,
          388,
          389,
          390,
          391,
          392,
          393,
          394,
          395,
          396,
          397,
          398,
          399,
          400,
          401,
          402,
          403,
          404,
          405,
          406,
          407,
          408,
          409,
          410,
          411,
          412,
          413,
          414,
          415,
          416,
          417,
          418,
          419,
          420,
          421,
          422,
          423,
          424,
          425,
          426,
          427,
          428,
          429,
          430,
          431,
          432,
          433,
          434,
          435,
          436,
          437,
          438,
          439,
          440,
          441,
          442,
          443,
          444,
          445,
          446,
          447,
          448,
          449,
          450,
          451,
          452,
          453,
          454,
          455,
          456,
          457,
          458,
          459,
          460,
          461,
          462,
          463,
          464,
          465,
          466,
          467,
          468,
          469,
          470,
          471,
          472,
          473,
          474,
          475,
          476,
          477,
          478,
          479,
          480,
          481,
          482,
          483,
          484,
          485,
          486,
          487,
          488,
          489,
          490,
          491,
          492,
          493,
          494,
          495,
          496,
          497,
          498,
          499,
          500,
          501,
          502,
          503,
          504,
          505,
          506,
          507,
          508,
          509,
          510,
          511
         ],
         "y": [
          0,
          0,
          0,
          0,
          0,
          0,
          0,
          0,
          0,
          0,
          0,
          0,
          0,
          0,
          0,
          0,
          0,
          0,
          0,
          0,
          0,
          0,
          0,
          0,
          0,
          0,
          0,
          0,
          0,
          0,
          0,
          0,
          0,
          0,
          0,
          0,
          0,
          0,
          0,
          0,
          0,
          0,
          0,
          0,
          0,
          0,
          0,
          0,
          0,
          0,
          0,
          0,
          0,
          0,
          0,
          0,
          0,
          0,
          0,
          0,
          0,
          0,
          0,
          0,
          0,
          0,
          0,
          0,
          0,
          0,
          0,
          0,
          0,
          0,
          0,
          0,
          0,
          0,
          0,
          0,
          0,
          0,
          0,
          0,
          0,
          0,
          0,
          0,
          0,
          0,
          0,
          0,
          0,
          0,
          0,
          0,
          0,
          0,
          0,
          0,
          0,
          0,
          0,
          0,
          0,
          0,
          0,
          0,
          0,
          0,
          0,
          0,
          0,
          0,
          0,
          0,
          0,
          0,
          0,
          0,
          0,
          0,
          0,
          0,
          0,
          0,
          0,
          0,
          0,
          0,
          0,
          0,
          0,
          0,
          0,
          0,
          0,
          0,
          0,
          0,
          0,
          0,
          0,
          0,
          0,
          0,
          0,
          0,
          0,
          0,
          0,
          0,
          0,
          0,
          0,
          0,
          0,
          0,
          0,
          0,
          0,
          0,
          0,
          0,
          0,
          0,
          0,
          0,
          0,
          0,
          0,
          0,
          0,
          0,
          0,
          0,
          0,
          0,
          0,
          0,
          0,
          0,
          0,
          0,
          0,
          0,
          0,
          0,
          0,
          0,
          0,
          0,
          0,
          0,
          0,
          0,
          0,
          0,
          0,
          0,
          0,
          0,
          0,
          0,
          0,
          0,
          0,
          0,
          0,
          0,
          0,
          0,
          0,
          0,
          0,
          0,
          0,
          0,
          0,
          0,
          0,
          0,
          0,
          0,
          0,
          0,
          0,
          0,
          0,
          0,
          0,
          0,
          0,
          0,
          0,
          0,
          0,
          0,
          3.988551616668701,
          0,
          0,
          0,
          0,
          0,
          0,
          0,
          0,
          0,
          0,
          0,
          0,
          0,
          0,
          0,
          0,
          0,
          0,
          0,
          0,
          0,
          0,
          0,
          0,
          0,
          0,
          0,
          0,
          0,
          0,
          0,
          0,
          0,
          0,
          0,
          0,
          0,
          0,
          0,
          0,
          0,
          0,
          0,
          0,
          0,
          0,
          0,
          0,
          0,
          0,
          0,
          0,
          0,
          0,
          0,
          0,
          0,
          0,
          0,
          0,
          0,
          0,
          0,
          0,
          0,
          0,
          0,
          0,
          0,
          0,
          0,
          0,
          0,
          0,
          0,
          0,
          0,
          0,
          0,
          0,
          0,
          0,
          0,
          0,
          0,
          0,
          0,
          0,
          0,
          0,
          0,
          0,
          0,
          0,
          0,
          0,
          0,
          0,
          0,
          0,
          0,
          0,
          0,
          0,
          0,
          0,
          0,
          0,
          0,
          0,
          0,
          0,
          0,
          0,
          0,
          0,
          0,
          0,
          0,
          0,
          0,
          0,
          0,
          0,
          0,
          0,
          0,
          0,
          0,
          0,
          0,
          0,
          0,
          0,
          0,
          0,
          0,
          0,
          0,
          0,
          0,
          0,
          0,
          0,
          0,
          0,
          0,
          0,
          0,
          0,
          0,
          0,
          0,
          0,
          0,
          0,
          0,
          0,
          0,
          0,
          0,
          0,
          0,
          0,
          0,
          0,
          0,
          0,
          0,
          0,
          0,
          0,
          0,
          0,
          0,
          0,
          0,
          0,
          0,
          0,
          0,
          0,
          0,
          0,
          0,
          0,
          0,
          0,
          0,
          0,
          0,
          0,
          0,
          0,
          0,
          0,
          0,
          0,
          0,
          0,
          0,
          0,
          0,
          0,
          0,
          0,
          0,
          0,
          0,
          0,
          0,
          0,
          0,
          0,
          0,
          0,
          0,
          0,
          0,
          0,
          0,
          0,
          0,
          0,
          0,
          0,
          0,
          0,
          0,
          0,
          0,
          0,
          0,
          0,
          0,
          0,
          0,
          0,
          0,
          0,
          0,
          0,
          0,
          0,
          0,
          0,
          0,
          0,
          0,
          0,
          0,
          0,
          0,
          0,
          0,
          0,
          0,
          0,
          0,
          0,
          0,
          0,
          0,
          0,
          0,
          0,
          0,
          0,
          0,
          0,
          0,
          0,
          0
         ]
        }
       ],
       "layout": {
        "template": {
         "data": {
          "bar": [
           {
            "error_x": {
             "color": "#2a3f5f"
            },
            "error_y": {
             "color": "#2a3f5f"
            },
            "marker": {
             "line": {
              "color": "#E5ECF6",
              "width": 0.5
             },
             "pattern": {
              "fillmode": "overlay",
              "size": 10,
              "solidity": 0.2
             }
            },
            "type": "bar"
           }
          ],
          "barpolar": [
           {
            "marker": {
             "line": {
              "color": "#E5ECF6",
              "width": 0.5
             },
             "pattern": {
              "fillmode": "overlay",
              "size": 10,
              "solidity": 0.2
             }
            },
            "type": "barpolar"
           }
          ],
          "carpet": [
           {
            "aaxis": {
             "endlinecolor": "#2a3f5f",
             "gridcolor": "white",
             "linecolor": "white",
             "minorgridcolor": "white",
             "startlinecolor": "#2a3f5f"
            },
            "baxis": {
             "endlinecolor": "#2a3f5f",
             "gridcolor": "white",
             "linecolor": "white",
             "minorgridcolor": "white",
             "startlinecolor": "#2a3f5f"
            },
            "type": "carpet"
           }
          ],
          "choropleth": [
           {
            "colorbar": {
             "outlinewidth": 0,
             "ticks": ""
            },
            "type": "choropleth"
           }
          ],
          "contour": [
           {
            "colorbar": {
             "outlinewidth": 0,
             "ticks": ""
            },
            "colorscale": [
             [
              0,
              "#0d0887"
             ],
             [
              0.1111111111111111,
              "#46039f"
             ],
             [
              0.2222222222222222,
              "#7201a8"
             ],
             [
              0.3333333333333333,
              "#9c179e"
             ],
             [
              0.4444444444444444,
              "#bd3786"
             ],
             [
              0.5555555555555556,
              "#d8576b"
             ],
             [
              0.6666666666666666,
              "#ed7953"
             ],
             [
              0.7777777777777778,
              "#fb9f3a"
             ],
             [
              0.8888888888888888,
              "#fdca26"
             ],
             [
              1,
              "#f0f921"
             ]
            ],
            "type": "contour"
           }
          ],
          "contourcarpet": [
           {
            "colorbar": {
             "outlinewidth": 0,
             "ticks": ""
            },
            "type": "contourcarpet"
           }
          ],
          "heatmap": [
           {
            "colorbar": {
             "outlinewidth": 0,
             "ticks": ""
            },
            "colorscale": [
             [
              0,
              "#0d0887"
             ],
             [
              0.1111111111111111,
              "#46039f"
             ],
             [
              0.2222222222222222,
              "#7201a8"
             ],
             [
              0.3333333333333333,
              "#9c179e"
             ],
             [
              0.4444444444444444,
              "#bd3786"
             ],
             [
              0.5555555555555556,
              "#d8576b"
             ],
             [
              0.6666666666666666,
              "#ed7953"
             ],
             [
              0.7777777777777778,
              "#fb9f3a"
             ],
             [
              0.8888888888888888,
              "#fdca26"
             ],
             [
              1,
              "#f0f921"
             ]
            ],
            "type": "heatmap"
           }
          ],
          "heatmapgl": [
           {
            "colorbar": {
             "outlinewidth": 0,
             "ticks": ""
            },
            "colorscale": [
             [
              0,
              "#0d0887"
             ],
             [
              0.1111111111111111,
              "#46039f"
             ],
             [
              0.2222222222222222,
              "#7201a8"
             ],
             [
              0.3333333333333333,
              "#9c179e"
             ],
             [
              0.4444444444444444,
              "#bd3786"
             ],
             [
              0.5555555555555556,
              "#d8576b"
             ],
             [
              0.6666666666666666,
              "#ed7953"
             ],
             [
              0.7777777777777778,
              "#fb9f3a"
             ],
             [
              0.8888888888888888,
              "#fdca26"
             ],
             [
              1,
              "#f0f921"
             ]
            ],
            "type": "heatmapgl"
           }
          ],
          "histogram": [
           {
            "marker": {
             "pattern": {
              "fillmode": "overlay",
              "size": 10,
              "solidity": 0.2
             }
            },
            "type": "histogram"
           }
          ],
          "histogram2d": [
           {
            "colorbar": {
             "outlinewidth": 0,
             "ticks": ""
            },
            "colorscale": [
             [
              0,
              "#0d0887"
             ],
             [
              0.1111111111111111,
              "#46039f"
             ],
             [
              0.2222222222222222,
              "#7201a8"
             ],
             [
              0.3333333333333333,
              "#9c179e"
             ],
             [
              0.4444444444444444,
              "#bd3786"
             ],
             [
              0.5555555555555556,
              "#d8576b"
             ],
             [
              0.6666666666666666,
              "#ed7953"
             ],
             [
              0.7777777777777778,
              "#fb9f3a"
             ],
             [
              0.8888888888888888,
              "#fdca26"
             ],
             [
              1,
              "#f0f921"
             ]
            ],
            "type": "histogram2d"
           }
          ],
          "histogram2dcontour": [
           {
            "colorbar": {
             "outlinewidth": 0,
             "ticks": ""
            },
            "colorscale": [
             [
              0,
              "#0d0887"
             ],
             [
              0.1111111111111111,
              "#46039f"
             ],
             [
              0.2222222222222222,
              "#7201a8"
             ],
             [
              0.3333333333333333,
              "#9c179e"
             ],
             [
              0.4444444444444444,
              "#bd3786"
             ],
             [
              0.5555555555555556,
              "#d8576b"
             ],
             [
              0.6666666666666666,
              "#ed7953"
             ],
             [
              0.7777777777777778,
              "#fb9f3a"
             ],
             [
              0.8888888888888888,
              "#fdca26"
             ],
             [
              1,
              "#f0f921"
             ]
            ],
            "type": "histogram2dcontour"
           }
          ],
          "mesh3d": [
           {
            "colorbar": {
             "outlinewidth": 0,
             "ticks": ""
            },
            "type": "mesh3d"
           }
          ],
          "parcoords": [
           {
            "line": {
             "colorbar": {
              "outlinewidth": 0,
              "ticks": ""
             }
            },
            "type": "parcoords"
           }
          ],
          "pie": [
           {
            "automargin": true,
            "type": "pie"
           }
          ],
          "scatter": [
           {
            "fillpattern": {
             "fillmode": "overlay",
             "size": 10,
             "solidity": 0.2
            },
            "type": "scatter"
           }
          ],
          "scatter3d": [
           {
            "line": {
             "colorbar": {
              "outlinewidth": 0,
              "ticks": ""
             }
            },
            "marker": {
             "colorbar": {
              "outlinewidth": 0,
              "ticks": ""
             }
            },
            "type": "scatter3d"
           }
          ],
          "scattercarpet": [
           {
            "marker": {
             "colorbar": {
              "outlinewidth": 0,
              "ticks": ""
             }
            },
            "type": "scattercarpet"
           }
          ],
          "scattergeo": [
           {
            "marker": {
             "colorbar": {
              "outlinewidth": 0,
              "ticks": ""
             }
            },
            "type": "scattergeo"
           }
          ],
          "scattergl": [
           {
            "marker": {
             "colorbar": {
              "outlinewidth": 0,
              "ticks": ""
             }
            },
            "type": "scattergl"
           }
          ],
          "scattermapbox": [
           {
            "marker": {
             "colorbar": {
              "outlinewidth": 0,
              "ticks": ""
             }
            },
            "type": "scattermapbox"
           }
          ],
          "scatterpolar": [
           {
            "marker": {
             "colorbar": {
              "outlinewidth": 0,
              "ticks": ""
             }
            },
            "type": "scatterpolar"
           }
          ],
          "scatterpolargl": [
           {
            "marker": {
             "colorbar": {
              "outlinewidth": 0,
              "ticks": ""
             }
            },
            "type": "scatterpolargl"
           }
          ],
          "scatterternary": [
           {
            "marker": {
             "colorbar": {
              "outlinewidth": 0,
              "ticks": ""
             }
            },
            "type": "scatterternary"
           }
          ],
          "surface": [
           {
            "colorbar": {
             "outlinewidth": 0,
             "ticks": ""
            },
            "colorscale": [
             [
              0,
              "#0d0887"
             ],
             [
              0.1111111111111111,
              "#46039f"
             ],
             [
              0.2222222222222222,
              "#7201a8"
             ],
             [
              0.3333333333333333,
              "#9c179e"
             ],
             [
              0.4444444444444444,
              "#bd3786"
             ],
             [
              0.5555555555555556,
              "#d8576b"
             ],
             [
              0.6666666666666666,
              "#ed7953"
             ],
             [
              0.7777777777777778,
              "#fb9f3a"
             ],
             [
              0.8888888888888888,
              "#fdca26"
             ],
             [
              1,
              "#f0f921"
             ]
            ],
            "type": "surface"
           }
          ],
          "table": [
           {
            "cells": {
             "fill": {
              "color": "#EBF0F8"
             },
             "line": {
              "color": "white"
             }
            },
            "header": {
             "fill": {
              "color": "#C8D4E3"
             },
             "line": {
              "color": "white"
             }
            },
            "type": "table"
           }
          ]
         },
         "layout": {
          "annotationdefaults": {
           "arrowcolor": "#2a3f5f",
           "arrowhead": 0,
           "arrowwidth": 1
          },
          "autotypenumbers": "strict",
          "coloraxis": {
           "colorbar": {
            "outlinewidth": 0,
            "ticks": ""
           }
          },
          "colorscale": {
           "diverging": [
            [
             0,
             "#8e0152"
            ],
            [
             0.1,
             "#c51b7d"
            ],
            [
             0.2,
             "#de77ae"
            ],
            [
             0.3,
             "#f1b6da"
            ],
            [
             0.4,
             "#fde0ef"
            ],
            [
             0.5,
             "#f7f7f7"
            ],
            [
             0.6,
             "#e6f5d0"
            ],
            [
             0.7,
             "#b8e186"
            ],
            [
             0.8,
             "#7fbc41"
            ],
            [
             0.9,
             "#4d9221"
            ],
            [
             1,
             "#276419"
            ]
           ],
           "sequential": [
            [
             0,
             "#0d0887"
            ],
            [
             0.1111111111111111,
             "#46039f"
            ],
            [
             0.2222222222222222,
             "#7201a8"
            ],
            [
             0.3333333333333333,
             "#9c179e"
            ],
            [
             0.4444444444444444,
             "#bd3786"
            ],
            [
             0.5555555555555556,
             "#d8576b"
            ],
            [
             0.6666666666666666,
             "#ed7953"
            ],
            [
             0.7777777777777778,
             "#fb9f3a"
            ],
            [
             0.8888888888888888,
             "#fdca26"
            ],
            [
             1,
             "#f0f921"
            ]
           ],
           "sequentialminus": [
            [
             0,
             "#0d0887"
            ],
            [
             0.1111111111111111,
             "#46039f"
            ],
            [
             0.2222222222222222,
             "#7201a8"
            ],
            [
             0.3333333333333333,
             "#9c179e"
            ],
            [
             0.4444444444444444,
             "#bd3786"
            ],
            [
             0.5555555555555556,
             "#d8576b"
            ],
            [
             0.6666666666666666,
             "#ed7953"
            ],
            [
             0.7777777777777778,
             "#fb9f3a"
            ],
            [
             0.8888888888888888,
             "#fdca26"
            ],
            [
             1,
             "#f0f921"
            ]
           ]
          },
          "colorway": [
           "#636efa",
           "#EF553B",
           "#00cc96",
           "#ab63fa",
           "#FFA15A",
           "#19d3f3",
           "#FF6692",
           "#B6E880",
           "#FF97FF",
           "#FECB52"
          ],
          "font": {
           "color": "#2a3f5f"
          },
          "geo": {
           "bgcolor": "white",
           "lakecolor": "white",
           "landcolor": "#E5ECF6",
           "showlakes": true,
           "showland": true,
           "subunitcolor": "white"
          },
          "hoverlabel": {
           "align": "left"
          },
          "hovermode": "closest",
          "mapbox": {
           "style": "light"
          },
          "paper_bgcolor": "white",
          "plot_bgcolor": "#E5ECF6",
          "polar": {
           "angularaxis": {
            "gridcolor": "white",
            "linecolor": "white",
            "ticks": ""
           },
           "bgcolor": "#E5ECF6",
           "radialaxis": {
            "gridcolor": "white",
            "linecolor": "white",
            "ticks": ""
           }
          },
          "scene": {
           "xaxis": {
            "backgroundcolor": "#E5ECF6",
            "gridcolor": "white",
            "gridwidth": 2,
            "linecolor": "white",
            "showbackground": true,
            "ticks": "",
            "zerolinecolor": "white"
           },
           "yaxis": {
            "backgroundcolor": "#E5ECF6",
            "gridcolor": "white",
            "gridwidth": 2,
            "linecolor": "white",
            "showbackground": true,
            "ticks": "",
            "zerolinecolor": "white"
           },
           "zaxis": {
            "backgroundcolor": "#E5ECF6",
            "gridcolor": "white",
            "gridwidth": 2,
            "linecolor": "white",
            "showbackground": true,
            "ticks": "",
            "zerolinecolor": "white"
           }
          },
          "shapedefaults": {
           "line": {
            "color": "#2a3f5f"
           }
          },
          "ternary": {
           "aaxis": {
            "gridcolor": "white",
            "linecolor": "white",
            "ticks": ""
           },
           "baxis": {
            "gridcolor": "white",
            "linecolor": "white",
            "ticks": ""
           },
           "bgcolor": "#E5ECF6",
           "caxis": {
            "gridcolor": "white",
            "linecolor": "white",
            "ticks": ""
           }
          },
          "title": {
           "x": 0.05
          },
          "xaxis": {
           "automargin": true,
           "gridcolor": "white",
           "linecolor": "white",
           "ticks": "",
           "title": {
            "standoff": 15
           },
           "zerolinecolor": "white",
           "zerolinewidth": 2
          },
          "yaxis": {
           "automargin": true,
           "gridcolor": "white",
           "linecolor": "white",
           "ticks": "",
           "title": {
            "standoff": 15
           },
           "zerolinecolor": "white",
           "zerolinewidth": 2
          }
         }
        },
        "title": {
         "text": "Reward for every matrix"
        }
       }
      }
     },
     "metadata": {},
     "output_type": "display_data"
    }
   ],
   "source": [
    "fig = go.Figure()\n",
    "fig.add_trace(go.Bar(x=list(range(512)), y=[reward.detach().cpu() for reward in rewards]))\n",
    "# fig.add_trace(go.Bar(x=[273], y=[rewards[273].detach().cpu()]))\n",
    "fig.update_layout({\n",
    "    \"title\": \"Reward for every matrix\"\n",
    "})\n",
    "fig.show()"
   ]
  },
  {
   "cell_type": "code",
   "execution_count": 14,
   "metadata": {},
   "outputs": [
    {
     "data": {
      "text/plain": [
       "<BarContainer object of 512 artists>"
      ]
     },
     "execution_count": 14,
     "metadata": {},
     "output_type": "execute_result"
    },
    {
     "data": {
      "image/png": "[encoded data removed]",
      "text/plain": [
       "<Figure size 640x480 with 1 Axes>"
      ]
     },
     "metadata": {},
     "output_type": "display_data"
    }
   ],
   "source": [
    "plt.bar(range(512), [reward.detach().cpu() for reward in rewards])"
   ]
  }
 ],
 "metadata": {
  "kernelspec": {
   "display_name": "EL7006-GFlowNet",
   "language": "python",
   "name": "python3"
  },
  "language_info": {
   "codemirror_mode": {
    "name": "ipython",
    "version": 3
   },
   "file_extension": ".py",
   "mimetype": "text/x-python",
   "name": "python",
   "nbconvert_exporter": "python",
   "pygments_lexer": "ipython3",
   "version": "3.11.8"
  }
 },
 "nbformat": 4,
 "nbformat_minor": 2
}
